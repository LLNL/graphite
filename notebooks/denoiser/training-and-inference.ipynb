{
 "cells": [
  {
   "attachments": {},
   "cell_type": "markdown",
   "id": "62bc0cf4-5fd3-49c4-9f16-df1b5676bf41",
   "metadata": {},
   "source": [
    "# Graph network model denoiser for denoising thermal perturbation\n",
    "\n",
    "This notebook will guide you through training and applying a graph network model for denoising thermal perturbation in crystal structures.\n",
    "\n",
    "You will need to install `ase` for the convenience of reading and writing atomic structure files.\n",
    "\n",
    "Being research code, `graphite` currently has no strict versioning. This notebook was last run on 2023-04-17. Please contact the authors if you encounter errors or bugs."
   ]
  },
  {
   "cell_type": "code",
   "execution_count": 1,
   "id": "fae635ac-e4cd-4054-932d-64731b851448",
   "metadata": {},
   "outputs": [],
   "source": [
    "import numpy as np\n",
    "import torch\n",
    "import matplotlib.pyplot as plt\n",
    "import ase.io"
   ]
  },
  {
   "cell_type": "markdown",
   "id": "a28de9a3-ad7c-4949-b35b-420f30509881",
   "metadata": {},
   "source": [
    "## Read/construct ideal structures\n",
    "\n",
    "The model will be trained with noised datatset based on ideal (clean) reference lattices. But you only have to define the ideal structures here. We will use a custom `Dataset` class to automatically apply a random noise to each data sample.\n",
    "\n",
    "You can either read existing structure files or synthesize your own with packages like `ase`. Here I am reading from files.\n",
    "\n",
    "\n",
    "### Want to use your own ideal reference data?\n",
    "\n",
    "Feel free to use your own ideal reference data in the code cell below. This notebook uses `ase` as the interface between structure files and PyTorch-Geometric (PyG), so you'll have to either read the structure files with `ase` or convert to PyG format your own way."
   ]
  },
  {
   "cell_type": "code",
   "execution_count": null,
   "id": "7ef4cdb6-deef-4a58-9799-fd3b6f38e954",
   "metadata": {},
   "outputs": [],
   "source": [
    "# Comment out the unused part\n",
    "\n",
    "# Ideal structures are BCC, FCC, HCP\n",
    "ideal_bcc = ase.io.read('./data/Cu/ideal-bcc.dump')\n",
    "ideal_fcc = ase.io.read('./data/Cu/ideal-fcc.dump')\n",
    "ideal_hcp = ase.io.read('./data/Cu/ideal-hcp.dump')\n",
    "ideal_atoms_list = [ideal_bcc, ideal_fcc, ideal_hcp]\n",
    "\n",
    "# Ideal structures are SiO2 polymorphs\n",
    "# ideal_a_quartz = ase.io.read('./data/SiO2/ideal-a-quartz.poscar')\n",
    "# ideal_b_quartz = ase.io.read('./data/SiO2/ideal-b-quartz.poscar')\n",
    "# ideal_a_cristo = ase.io.read('./data/SiO2/ideal-a-cristobalite.poscar')\n",
    "# ideal_b_cristo = ase.io.read('./data/SiO2/ideal-b-cristobalite.poscar')\n",
    "# ideal_atoms_list = [ideal_a_quartz, ideal_b_quartz, ideal_a_cristo, ideal_b_cristo]\n",
    "\n",
    "# Use your own data\n",
    "# ideal_struct_1 = ase.io.read('path/to/file')\n",
    "# ideal_struct_2 = ase.io.read('path/to/file')\n",
    "# ...\n",
    "# ideal_atoms_list = [ideal_struct_1, ideal_struct_2, ...]"
   ]
  },
  {
   "attachments": {},
   "cell_type": "markdown",
   "id": "d123e07d-8bc6-48b0-93fa-1ac69963e319",
   "metadata": {},
   "source": [
    "## Prepare dataloader\n",
    "\n",
    "Here we will convert each atomic structure into a Pytorch-Geometric (PyG) `Data` object with graph information. Recall that we will use a custom `Dataset` class to automatically apply a random noise when drawing a data sample. Then we will convert the noised data into an atomic graph based one some cutoff radius. Finally we feed it into the graph model.\n",
    "\n",
    "But for large periodic systems, conversion to graph is not cheap, especially when you have to repeat it for hundreds of thousands of times during training. A way to circumvent this issue is to first build an atomic graph based on a large cutoff (for each ideal sample). Then during sampling a random Gaussian noise is applied. After that the graph edge lengths are re-computed and those within the original (shorter) cutoff are down-selected, discarding the long graph edges. In doing so we avoid having to construct graphs during training despite constantly perturbing atomic coordinates.\n",
    "\n",
    "This cutting corner trick currently only works for orthorhomic cells specified by positive numbers! In other words, the PyG data object must have a field `box` desricbing the simulation box dimensions:\n",
    "\n",
    "```python\n",
    "data.box = torch.tensor([1.7, 1.2, 3.4])  # A simulation box example\n",
    "```\n",
    "\n",
    "At inference time, if we use `ase` for graph conversion, then non-orthorhombic cells are allowed!\n",
    "\n",
    "Also, how much noise you apply matters. You should pick the right magnitude of noise to synthetically perturb the atoms. This is controlled by the `sigma_max` keyword argument of the `RattleParticles` transform."
   ]
  },
  {
   "cell_type": "code",
   "execution_count": 5,
   "id": "e7fa288e-1b0f-417e-a7b7-3e5a1f024764",
   "metadata": {},
   "outputs": [],
   "source": [
    "from torch_geometric.data import Data, Dataset\n",
    "from torch_geometric.transforms import Compose\n",
    "from graphite.transforms import RattleParticles, DownselectEdges\n",
    "from sklearn.preprocessing import LabelEncoder\n",
    "\n",
    "# Cutoff distance for graph construction\n",
    "CUTOFF = 3.2\n",
    "\n",
    "def atoms2pygdata(atoms, ase=False):\n",
    "    x = LabelEncoder().fit_transform(atoms.numbers)\n",
    "    if ase:\n",
    "        return Data(\n",
    "            x       = torch.tensor(x,               dtype=torch.long),\n",
    "            pos     = torch.tensor(atoms.positions, dtype=torch.float),\n",
    "            cell    = np.array(atoms.cell),\n",
    "            pbc     = atoms.pbc,\n",
    "            numbers = atoms.numbers,\n",
    "        )\n",
    "    else:\n",
    "        return Data(\n",
    "            x    = torch.tensor(x,                    dtype=torch.long),\n",
    "            pos  = torch.tensor(atoms.positions,      dtype=torch.float),\n",
    "            box  = torch.tensor(np.array(atoms.cell), dtype=torch.float).sum(dim=0),\n",
    "        )\n",
    "\n",
    "class CustomDataset(Dataset):\n",
    "    def __init__(self, dataset):\n",
    "        super().__init__(\n",
    "            None,\n",
    "            transform = Compose([RattleParticles(sigma_max=0.3), DownselectEdges(cutoff=CUTOFF)]),\n",
    "            pre_transform = None,\n",
    "        )\n",
    "        self.dataset = dataset\n",
    "\n",
    "    def len(self):\n",
    "        return len(self.dataset)\n",
    "    \n",
    "    def get(self, idx):\n",
    "        return self.dataset[idx]"
   ]
  },
  {
   "cell_type": "code",
   "execution_count": 6,
   "id": "b357c0f3-0b8c-42f4-8d13-5e5007cb6256",
   "metadata": {},
   "outputs": [],
   "source": [
    "from graphite.transforms import PeriodicRadiusGraph\n",
    "from torch_geometric.loader import DataLoader\n",
    "\n",
    "PIN_MEMORY  = True  # related to optimization for training, revert to False if you see any issues\n",
    "NUM_WORKERS = 4     # related to optimization for training, revert to 1 if you see any issues\n",
    "BATCH_SIZE  = 16    # adjust this so that each minibatch fits in the (GPU) memory\n",
    "\n",
    "# Convert to PyG data format\n",
    "dataset = [atoms2pygdata(atoms, ase=False) for atoms in ideal_atoms_list]\n",
    "\n",
    "# Convert to atomic graphs (with a large cutoff)\n",
    "transform = PeriodicRadiusGraph(cutoff=5.0)\n",
    "dataset = [transform(d) for d in dataset]\n",
    "\n",
    "# Duplicate dataset by a factor of say, 128\n",
    "dataset = [d.clone() for d in dataset for _ in range(128)]\n",
    "\n",
    "# Ad-hoc Dataset class for applying random perturbation and then downselecting graph edges\n",
    "dataset = CustomDataset(dataset)\n",
    "\n",
    "# Move the dataset over to PyG Dataloader\n",
    "loader_train = DataLoader(dataset, batch_size=BATCH_SIZE, shuffle=True, num_workers=NUM_WORKERS, pin_memory=PIN_MEMORY)"
   ]
  },
  {
   "attachments": {},
   "cell_type": "markdown",
   "id": "c5fe567e-cf09-47e1-8f95-7679da18a6bc",
   "metadata": {},
   "source": [
    "## Initialize the graph network model\n",
    "\n",
    "In general you want the model size/complexity to be small in order for it to be scalable to large test data.\n",
    "\n",
    "Note that this model is trained to predict noises. Denoising is then done by subtracting the noises (iteratively)."
   ]
  },
  {
   "cell_type": "code",
   "execution_count": null,
   "id": "e09944c4",
   "metadata": {},
   "outputs": [],
   "source": [
    "from torch import nn\n",
    "from functools import partial\n",
    "from graphite.nn.basis import bessel\n",
    "\n",
    "class InitialEmbedding(nn.Module):\n",
    "    def __init__(self, num_species):\n",
    "        super().__init__()\n",
    "        self.embed_node_x = nn.Embedding(num_species, 8)\n",
    "        self.embed_node_z = nn.Embedding(num_species, 8)\n",
    "        self.embed_edge   = partial(bessel, start=0.0, end=CUTOFF, num_basis=16)\n",
    "    \n",
    "    def forward(self, data):\n",
    "        # Embed node\n",
    "        data.h_node_x = self.embed_node_x(data.x)\n",
    "        data.h_node_z = self.embed_node_z(data.x)\n",
    "\n",
    "        # Embed edge\n",
    "        data.h_edge = self.embed_edge(data.edge_attr.norm(dim=-1))\n",
    "        \n",
    "        return data"
   ]
  },
  {
   "cell_type": "code",
   "execution_count": 4,
   "id": "73818310-0f76-4521-b434-00ff044b0229",
   "metadata": {},
   "outputs": [
    {
     "data": {
      "text/html": [
       "<div>\n",
       "<style scoped>\n",
       "    .dataframe tbody tr th:only-of-type {\n",
       "        vertical-align: middle;\n",
       "    }\n",
       "\n",
       "    .dataframe tbody tr th {\n",
       "        vertical-align: top;\n",
       "    }\n",
       "\n",
       "    .dataframe thead th {\n",
       "        text-align: right;\n",
       "    }\n",
       "</style>\n",
       "<table border=\"1\" class=\"dataframe\">\n",
       "  <thead>\n",
       "    <tr style=\"text-align: right;\">\n",
       "      <th></th>\n",
       "      <th>Layer</th>\n",
       "      <th>Params</th>\n",
       "    </tr>\n",
       "  </thead>\n",
       "  <tbody>\n",
       "    <tr>\n",
       "      <th>21</th>\n",
       "      <td>Total</td>\n",
       "      <td>44652</td>\n",
       "    </tr>\n",
       "  </tbody>\n",
       "</table>\n",
       "</div>"
      ],
      "text/plain": [
       "    Layer  Params\n",
       "21  Total   44652"
      ]
     },
     "execution_count": 4,
     "metadata": {},
     "output_type": "execute_result"
    }
   ],
   "source": [
    "from graphite.nn.models.e3nn_nequip import NequIP\n",
    "from graphite.utils import summary\n",
    "\n",
    "NUM_SPECIES = 1\n",
    "\n",
    "model = NequIP(\n",
    "    init_embed     = InitialEmbedding(num_species=NUM_SPECIES),\n",
    "    irreps_node_x  = '8x0e',\n",
    "    irreps_node_z  = '8x0e',\n",
    "    irreps_hidden  = '8x0e + 8x1e + 4x2e',\n",
    "    irreps_edge    = '1x0e + 1x1e + 1x2e',\n",
    "    irreps_out     = '1x1e',\n",
    "    num_convs      = 3,\n",
    "    radial_neurons = [16, 64],\n",
    "    num_neighbors  = 12,\n",
    ")\n",
    "\n",
    "summary(model).tail(1)"
   ]
  },
  {
   "attachments": {},
   "cell_type": "markdown",
   "id": "730148d8-c642-4120-8f76-3f5fe6957768",
   "metadata": {},
   "source": [
    "## Train the model\n",
    "\n",
    "How long the training will take depends on the number of model updates (`NUM_UPDATES`) you specify. It should take less than an hour to finish training a BCC-FCC-HCP denoiser."
   ]
  },
  {
   "cell_type": "code",
   "execution_count": 6,
   "id": "a47202c4-391a-495a-b9e0-dd87007efffe",
   "metadata": {},
   "outputs": [
    {
     "name": "stdout",
     "output_type": "stream",
     "text": [
      "625 epochs needed to update the model 20000 times.\n"
     ]
    }
   ],
   "source": [
    "LEARN_RATE  = 2e-4\n",
    "NUM_UPDATES = 40_000\n",
    "\n",
    "num_samples = len(dataset)\n",
    "num_epochs  = int(NUM_UPDATES/(num_samples/BATCH_SIZE))\n",
    "print(f'{num_epochs} epochs needed to update the model {NUM_UPDATES} times.')\n",
    "\n",
    "optimizer = torch.optim.AdamW(model.parameters(), lr=LEARN_RATE)\n",
    "device    = torch.device('cuda' if torch.cuda.is_available() else 'cpu')\n",
    "\n",
    "L_train = []"
   ]
  },
  {
   "cell_type": "markdown",
   "id": "89b254e5",
   "metadata": {},
   "source": [
    "The training loop. \n",
    "\n",
    "By the way `tqdm` is used to display a progress bar."
   ]
  },
  {
   "cell_type": "code",
   "execution_count": null,
   "id": "91bf3473-15ba-4b64-85d7-a491244a7b83",
   "metadata": {
    "tags": []
   },
   "outputs": [],
   "source": [
    "from tqdm.notebook import trange\n",
    "\n",
    "def loss_fn(model, data):\n",
    "    disp_true = data.disp\n",
    "    disp_pred = model(data)\n",
    "    return torch.nn.functional.mse_loss(disp_pred, disp_true)\n",
    "\n",
    "def train(loader):\n",
    "    model.train()\n",
    "    total_loss = 0.0\n",
    "    for data in loader:\n",
    "        optimizer.zero_grad(set_to_none=True)\n",
    "        data = data.to(device, non_blocking=PIN_MEMORY)\n",
    "        loss = loss_fn(model, data)\n",
    "        loss.backward()\n",
    "        optimizer.step()\n",
    "        total_loss += loss.item()\n",
    "    return total_loss / len(loader)\n",
    "\n",
    "model = model.to(device)\n",
    "with trange(num_epochs) as pbar:\n",
    "    for _ in pbar:\n",
    "        loss_train = train(loader_train)\n",
    "        L_train.append(loss_train)\n",
    "        pbar.set_postfix(loss_train=loss_train)"
   ]
  },
  {
   "cell_type": "markdown",
   "id": "30a51850-187f-4a2c-acd2-0af76cacf93e",
   "metadata": {},
   "source": [
    "## Loss curves"
   ]
  },
  {
   "cell_type": "code",
   "execution_count": 8,
   "id": "0dfc93ce-2e56-425e-9c03-5c83f7024e0a",
   "metadata": {},
   "outputs": [
    {
     "data": {
      "image/png": "[encoded data removed]",
      "text/plain": [
       "<Figure size 864x216 with 2 Axes>"
      ]
     },
     "metadata": {
      "needs_background": "light"
     },
     "output_type": "display_data"
    }
   ],
   "source": [
    "fig, (ax1, ax2) = plt.subplots(1, 2, figsize=(12, 3))\n",
    "\n",
    "ax1.plot(L_train, label='train')\n",
    "ax1.set_ylabel('Loss')\n",
    "ax1.set_xlabel('Epochs')\n",
    "ax1.legend()\n",
    "\n",
    "ax2.semilogy(L_train, label='train')\n",
    "ax2.set_xlabel('Epochs')\n",
    "ax2.legend()\n",
    "\n",
    "plt.show()"
   ]
  },
  {
   "cell_type": "markdown",
   "id": "fe6dd718-f5b4-472e-9918-2dc0635ea109",
   "metadata": {},
   "source": [
    "## Save/load model\n",
    "\n",
    "At this point, you can opt to save the trained model. Or, if you have previously trained and saved a model, you can skip the training and load the trained model here.\n",
    "\n",
    "There are two pre-trained models available: one for BCC/FCC/HCP and one for SiO2 (quartz and cristobalites). To load them, you might need to have the right versions of PyG (2.0.4) and PyTorch (1.11.0)."
   ]
  },
  {
   "cell_type": "code",
   "execution_count": 7,
   "id": "05cb0078-43f5-42f6-a5af-35bfccde3b61",
   "metadata": {},
   "outputs": [],
   "source": [
    "# Save\n",
    "# torch.save(model, './models/Cu-denoiser.pt')\n",
    "\n",
    "# Load\n",
    "model = torch.load('./models/Cu-denoiser.pt')"
   ]
  },
  {
   "cell_type": "markdown",
   "id": "30f99573-a1d7-48eb-9b8b-af73390760dc",
   "metadata": {},
   "source": [
    "## Denoise test data\n",
    "\n",
    "In the case that the model was trained with Cu systems, it is still applicable to systems of other elements. You just have to scale the input data to match the atomic radius or the interatomic distance of the ideal Cu lattices. I used the following scaling factors:\n",
    "- In-house data\n",
    "    - Cu: 1.0\n",
    "    - Ta: 0.82\n",
    "- Benchmark data from Chung et al. (*\"Data-centric framework for crystal structure identification in atomistic simulations using machine learning\"*)\n",
    "    - Al (FCC): 0.9\n",
    "    - Ar (FCC): 0.65\n",
    "    - Fe (BCC): 0.9\n",
    "    - Li (BCC): 0.75\n",
    "    - Mg (HCP): 0.75\n",
    "    - Ti (HCP): 0.8"
   ]
  },
  {
   "cell_type": "markdown",
   "id": "d468e69a-8ac9-4581-81f2-9a6bb47c0897",
   "metadata": {},
   "source": [
    "### Helper function for denoising"
   ]
  },
  {
   "cell_type": "code",
   "execution_count": 8,
   "id": "6718bf47-5f7a-4e93-8be1-347e454e794a",
   "metadata": {},
   "outputs": [],
   "source": [
    "from graphite.transforms.radius_graph_ase import RadiusGraph_ase\n",
    "from tqdm.notebook import trange\n",
    "\n",
    "pos2graph = RadiusGraph_ase(cutoff=CUTOFF)\n",
    "\n",
    "@torch.no_grad()\n",
    "def denoise_snapshot(atoms, model, scale=1.0, steps=8):\n",
    "    pos_traj = [atoms.positions]\n",
    "    \n",
    "    data = atoms2pygdata(atoms, ase=True)\n",
    "    data.pos  *= scale\n",
    "    data.cell *= scale\n",
    "    \n",
    "    for _ in trange(steps):\n",
    "        data = pos2graph(data)\n",
    "        disp = model(data)\n",
    "        data.pos -= disp\n",
    "        pos_traj.append(data.pos.clone().numpy() / scale)\n",
    "    \n",
    "    return pos_traj"
   ]
  },
  {
   "cell_type": "markdown",
   "id": "a035dcd0-d8d8-4575-b579-f5b365556663",
   "metadata": {},
   "source": [
    "### Denoise a perturbed FCC snapshot\n",
    "\n",
    "You can also apply the model to other structures. Just change `TEST_FNAME` to a different structure file."
   ]
  },
  {
   "cell_type": "code",
   "execution_count": 14,
   "id": "90a14335-0b86-4041-9a81-22af4308dd26",
   "metadata": {},
   "outputs": [
    {
     "data": {
      "application/vnd.jupyter.widget-view+json": {
       "model_id": "725a702415d54adea47a572bc41c5376",
       "version_major": 2,
       "version_minor": 0
      },
      "text/plain": [
       "Denoising:   0%|          | 0/8 [00:00<?, ?it/s]"
      ]
     },
     "metadata": {},
     "output_type": "display_data"
    }
   ],
   "source": [
    "from pathlib import Path\n",
    "\n",
    "TEST_FNAME = './data/Cu/3400K-fcc.dump'\n",
    "path = Path(TEST_FNAME)\n",
    "\n",
    "# Read perturbed data\n",
    "noisy_atoms = ase.io.read(path)\n",
    "\n",
    "# Get denoising trajectory (positions only)\n",
    "model = model.to('cpu')\n",
    "pos_traj = denoise_snapshot(noisy_atoms, model, scale=1.0, steps=8)\n",
    "\n",
    "# Construct the denoising trajectory including other information (chemical symbols, cell dimenisons, etc.)\n",
    "denoising_traj = [\n",
    "    ase.Atoms(\n",
    "        symbols   = noisy_atoms.get_chemical_symbols(),\n",
    "        positions = pos,\n",
    "        cell      = noisy_atoms.cell,\n",
    "        pbc       = True\n",
    "    )\n",
    "    for pos in pos_traj\n",
    "]\n",
    "\n",
    "# Wrap the atoms into the simulaiton box\n",
    "for atoms in denoising_traj: atoms.wrap()\n",
    "\n",
    "# Save the denoising steps\n",
    "ase.io.write(path.with_suffix('.denoised.extxyz'), denoising_traj)"
   ]
  },
  {
   "cell_type": "markdown",
   "id": "2786fc93-636a-4685-a63e-9a39511fd4cd",
   "metadata": {},
   "source": [
    "Here is the denoising result (along the denoising iterations):\n",
    "\n",
    "![denoising-fcc-3d](./media/denoising-fcc-3d.gif)\n",
    "\n",
    "Here is the same result but in 2D view:\n",
    "\n",
    "![denoising-fcc-2d](./media/denoising-fcc-2d.gif)\n",
    "\n",
    "Note that the atoms are colored by a-CNA prediction (see the color legend)."
   ]
  },
  {
   "cell_type": "markdown",
   "id": "9e91ec8f-ea65-4d3b-a7c9-f5704974d0b5",
   "metadata": {},
   "source": [
    "### Denoise SiO2 β-quartz\n",
    "\n",
    "You can re-run some of the cell blocks above to load the SiO2 denoiser and apply it to perturbed β-quartz. The denoising trajectory is shown below:\n",
    "\n",
    "![denoising-b-quartz-2d](./media/denoising-b-quartz-2d.gif)\n",
    "\n",
    "![denoising-b-quartz-3d](./media/denoising-b-quartz-3d.gif)\n",
    "\n",
    "The silicon atoms are colored in beige, and the oxygens in red."
   ]
  },
  {
   "cell_type": "markdown",
   "id": "0da7cdc3-00e5-4925-92fc-e19ce9192787",
   "metadata": {},
   "source": [
    "## Thank you!\n",
    "\n",
    "This wraps up the demonstration for denoising MD-perturbed atomic structures. Large structure files that take up space are not stored in this git repository. Please contact the authors of this work if you wish to access the large-scale data discussed in the paper. Please also let us know if you have any questions. Thank you!"
   ]
  }
 ],
 "metadata": {
  "kernelspec": {
   "display_name": "Python 3 (ipykernel)",
   "language": "python",
   "name": "python3"
  },
  "language_info": {
   "codemirror_mode": {
    "name": "ipython",
    "version": 3
   },
   "file_extension": ".py",
   "mimetype": "text/x-python",
   "name": "python",
   "nbconvert_exporter": "python",
   "pygments_lexer": "ipython3",
   "version": "3.9.12"
  }
 },
 "nbformat": 4,
 "nbformat_minor": 5
}
