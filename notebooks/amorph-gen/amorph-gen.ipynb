{
 "cells": [
  {
   "attachments": {},
   "cell_type": "markdown",
   "id": "ced8d9ba-462f-4f00-8f47-f0afc48dd20b",
   "metadata": {},
   "source": [
    "# Amorphous structure generation\n",
    "\n",
    "This notebook is broken down into the following components:\n",
    "- Train the prior score model, which is the basis for the unconditional diffusion model.\n",
    "- Load a trained prior score model, and perform unconditional generation.\n",
    "- Lastly, load a trained forward model, and perform spectroscopy-guided generation."
   ]
  },
  {
   "cell_type": "code",
   "execution_count": 1,
   "id": "327ac2a4",
   "metadata": {},
   "outputs": [],
   "source": [
    "import torch\n",
    "import numpy as np\n",
    "import matplotlib.pyplot as plt\n",
    "import seaborn as sns; sns.set_context('talk')  # optional\n",
    "\n",
    "# I have a PyG version that prints a specific but otherwise harmless warning.\n",
    "import warnings; warnings.filterwarnings('ignore', '.*TypedStorage is deprecated.*')"
   ]
  },
  {
   "attachments": {},
   "cell_type": "markdown",
   "id": "4e7e59bf-b176-4ea1-8d5c-bbee9495d424",
   "metadata": {},
   "source": [
    "## Training"
   ]
  },
  {
   "attachments": {},
   "cell_type": "markdown",
   "id": "d77e557f-a1b2-42bf-87f7-3fe532927a51",
   "metadata": {},
   "source": [
    "### Create lightning datamodule and module instances\n",
    "\n",
    "A lot of details are hidden away for your convenience using PyTorch Lightning. They include:\n",
    "- How the data is loaded, processed, batched, and so on.\n",
    "- GNN model definitions.\n",
    "- How the models (prior and forward) are trained, which optimizer, exponential moving average, etc.\n",
    "\n",
    "These implementations can be found at `./lit/` if you are interested."
   ]
  },
  {
   "cell_type": "code",
   "execution_count": 2,
   "id": "95a0d6c2-30ac-416d-9f38-509e5aa8c787",
   "metadata": {
    "tags": []
   },
   "outputs": [
    {
     "name": "stderr",
     "output_type": "stream",
     "text": [
      "Lightning automatically upgraded your loaded checkpoint from v1.6.5 to v2.0.2. To apply the upgrade to your files permanently, run `python -m lightning.pytorch.utilities.upgrade_checkpoint --file lit_logs/prior-a-C-r3-k0.8/version_6/checkpoints/epoch=4043-step=808800.ckpt`\n"
     ]
    }
   ],
   "source": [
    "from lit.datamodules import StructureXANESDataModule\n",
    "from lit.modules import LitScoreNet\n",
    "\n",
    "datamodule = StructureXANESDataModule(\n",
    "    data_dir    = './data/a-C/dgp/',  # where the data is\n",
    "    cutoff      = 3.0,                # cutoff fradius for atomic graph construction\n",
    "    train_prior = True,               # whether this data module is used for training a prior score model\n",
    "    k           = 0.8,                # maximum noise level to be applied (irrelevant if training forward model)\n",
    "    train_size  = 0.9,                # used for train-validation split (irrelevant if training prior score model)\n",
    "    scale_y     = 1.0,                # scale the spectroscopy curve (irrelevant if training prior score model)\n",
    "    dup         = 128,                # duplicate data for longer epochs\n",
    "    batch_size  = 8,                  # number of structure frames in a single batch\n",
    "    num_workers = 4,                  # number of workers for the dataloader\n",
    ")\n",
    "\n",
    "# New model instance\n",
    "# score_net = LitScoreNet(num_species=1, num_convs=5, dim=200, ema_decay=0.9999, learn_rate=1e-3)\n",
    "\n",
    "# Load model weights from a saved checkpoint\n",
    "score_net = LitScoreNet.load_from_checkpoint(\n",
    "    './lit_logs/prior-a-C-r3-k0.8/version_6/checkpoints/epoch=4043-step=808800.ckpt'\n",
    ")"
   ]
  },
  {
   "cell_type": "markdown",
   "id": "55f6fcbd-b998-4c89-b399-89f033c99e04",
   "metadata": {},
   "source": [
    "### Start training session"
   ]
  },
  {
   "cell_type": "code",
   "execution_count": null,
   "id": "f203ca2e-07a6-4e88-a6c7-96ea92c6f79d",
   "metadata": {},
   "outputs": [],
   "source": [
    "import lightning as L\n",
    "from lightning.pytorch.callbacks import TQDMProgressBar\n",
    "from lightning.pytorch.loggers import TensorBoardLogger\n",
    "\n",
    "trainer = L.Trainer(\n",
    "    max_steps = 100_000,\n",
    "    logger    = TensorBoardLogger(save_dir='./lit_logs/', name='prior-a-C-r3-k0.8'),\n",
    "    callbacks = [TQDMProgressBar(refresh_rate=10)],\n",
    ")\n",
    "\n",
    "trainer.fit(\n",
    "    score_net, datamodule,\n",
    "    # ckpt_path = './lit_logs/...',  # specify this if you are resuming from a previous training session\n",
    ")"
   ]
  },
  {
   "attachments": {},
   "cell_type": "markdown",
   "id": "831f1e2d-f5aa-4ca6-8b19-70496c60153a",
   "metadata": {},
   "source": [
    "## Unconditional generation (the prior)"
   ]
  },
  {
   "attachments": {},
   "cell_type": "markdown",
   "id": "6d6467b5-d3fc-4304-8414-48bf899a6d1e",
   "metadata": {},
   "source": [
    "### Helper modules and functions"
   ]
  },
  {
   "cell_type": "code",
   "execution_count": 11,
   "id": "619379d8-87f7-40dc-b8e8-1edff1d1ba17",
   "metadata": {},
   "outputs": [],
   "source": [
    "from graphite.nn import periodic_radius_graph\n",
    "\n",
    "datamodule.setup()\n",
    "diffuser = datamodule.train_set.diffuser\n",
    "\n",
    "def prior_score(pos, cell, t, cutoff=datamodule.cutoff):\n",
    "    z = torch.ones(pos.size(0), 1, device=pos.device)\n",
    "    edge_index, edge_vec = periodic_radius_graph(pos, cutoff, cell)\n",
    "    edge_len  = edge_vec.norm(dim=-1, keepdim=True)\n",
    "    edge_attr = torch.hstack([edge_vec, edge_len])\n",
    "    return score_net.ema_model(z, edge_index, edge_attr, t, diffuser.sigma(t))\n",
    "\n",
    "def denoise_by_sde(pos, cell, score_fn, ts=torch.linspace(0.999, 0.001, 128+1)):\n",
    "    ts = ts.to(pos.device).view(-1, 1)\n",
    "    pos_traj = [pos.clone()]\n",
    "    f, g, g2 = diffuser.f, diffuser.g, diffuser.g2\n",
    "    for i, t in enumerate(ts[1:]):\n",
    "        dt = ts[i+1] - ts[i]\n",
    "        eps = dt.abs().sqrt() * torch.randn_like(pos)\n",
    "        score = score_fn(pos, cell, t)\n",
    "        disp = (f(t)*pos - g2(t)*score)*dt + g(t)*eps\n",
    "        pos += disp\n",
    "        pos_traj.append(pos.clone())\n",
    "    return torch.stack(pos_traj)\n",
    "\n",
    "def coord_num(pos, cutoff, cell):\n",
    "    edge_index, _  = periodic_radius_graph(pos, cutoff, cell)\n",
    "    i = edge_index[0]\n",
    "    return torch.bincount(i)\n",
    "\n",
    "def remove_CN1_carbons(pos, cutoff, cell):\n",
    "    CN = coord_num(pos, cutoff, cell)\n",
    "    while 1 in CN:\n",
    "        print(f'  There are {(CN==1).sum()} CN1 carbons.')\n",
    "        mask = (CN != 1)\n",
    "        pos = pos[mask]\n",
    "        CN = coord_num(pos, cutoff, cell)\n",
    "    return pos"
   ]
  },
  {
   "cell_type": "code",
   "execution_count": 12,
   "id": "f64f520b-94ae-42eb-b285-2e4b485186a9",
   "metadata": {},
   "outputs": [],
   "source": [
    "diamond_density  = 0.1763\n",
    "graphite_density = 0.1136\n",
    "d15_density      = 0.0750\n",
    "d20_density      = 0.1000\n",
    "d25_density      = 0.1250\n",
    "d35_density      = 0.1751"
   ]
  },
  {
   "attachments": {},
   "cell_type": "markdown",
   "id": "0b1ea089-8751-4ff9-8d6a-9efb311fa8f0",
   "metadata": {},
   "source": [
    "### Generate"
   ]
  },
  {
   "cell_type": "code",
   "execution_count": 22,
   "id": "b96a4601-b72e-4454-abb5-aea3ecb7c69b",
   "metadata": {},
   "outputs": [
    {
     "data": {
      "application/vnd.jupyter.widget-view+json": {
       "model_id": "68a3c4f1b09e4a73acd414750b34c836",
       "version_major": 2,
       "version_minor": 0
      },
      "text/plain": [
       "  0%|          | 0/1 [00:00<?, ?it/s]"
      ]
     },
     "metadata": {},
     "output_type": "display_data"
    },
    {
     "name": "stdout",
     "output_type": "stream",
     "text": [
      "Gen  0. Density: 0.075\n",
      "  Coordination (final): [  0   0  92 208   7]\n"
     ]
    }
   ],
   "source": [
    "import random\n",
    "import ase\n",
    "from tqdm.notebook import trange\n",
    "\n",
    "# Setup\n",
    "NUM_GEN = 1       # number of generations/cells\n",
    "BOX_DIM = [16.]*3  # box dimensions\n",
    "\n",
    "device = 'cuda'\n",
    "cell = torch.diag(torch.tensor(BOX_DIM)).to(device)\n",
    "score_net.ema_model.to(device)\n",
    "\n",
    "priors = []\n",
    "with torch.no_grad():\n",
    "    for i in trange(NUM_GEN):\n",
    "        # Specify density\n",
    "        density = d15_density\n",
    "        print(f'Gen {i:>2}. Density: {density:.3f}')\n",
    "        \n",
    "        # Start with a random structure\n",
    "        num_nodes = int(density * np.prod(BOX_DIM))\n",
    "        pos = torch.empty(num_nodes, 3, device=device).uniform_(0, BOX_DIM[0])\n",
    "\n",
    "        # Denoise\n",
    "        pos_traj = denoise_by_sde(pos, cell, prior_score, ts=torch.linspace(0.999, 0.001, 64+1))\n",
    "        pos = pos_traj[-1]\n",
    "\n",
    "        # Remove CN1 carbons (manually)\n",
    "        # pos = remove_CN1_carbons(pos_traj[-1], cutoff=1.8, cell=cell)\n",
    "\n",
    "        # 'Restart' sampling really helps avoid CN1 carbon generation\n",
    "        # for _ in range(4):\n",
    "        #     pos, _ = diffuser.forward_noise(pos, t=0.4)\n",
    "        #     pos_traj_ = denoise_by_sde(pos, cell, prior_score, ts=torch.linspace(0.4, 0.001, 25+1))\n",
    "        #     pos = pos_traj_[-1]\n",
    "        \n",
    "        # Convert generation to ASE Atoms\n",
    "        atoms = ase.Atoms(numbers=[6]*len(pos), positions=pos.detach().cpu().numpy(), cell=cell.cpu().numpy(), pbc=[True]*3)\n",
    "        atoms.wrap()\n",
    "        priors.append(atoms)\n",
    "\n",
    "        # Check coordination numbers\n",
    "        CN = coord_num(pos, cutoff=1.8, cell=cell)\n",
    "        print(f'  Coordination (final): {torch.bincount(CN).cpu().numpy()}')"
   ]
  },
  {
   "cell_type": "markdown",
   "id": "4b751187-df3f-4f1d-ba6e-099c5abd38b7",
   "metadata": {},
   "source": [
    "#### Save generations"
   ]
  },
  {
   "cell_type": "code",
   "execution_count": 23,
   "id": "f151a7c0-44b5-4390-b633-18039037bf57",
   "metadata": {},
   "outputs": [],
   "source": [
    "import ase.io\n",
    "\n",
    "# Save all generations\n",
    "# for i, atoms in enumerate(priors):\n",
    "    # ase.io.write(f'./tmp/priors/{i}.extxyz', atoms)\n",
    "\n",
    "# Save the last denosing trajectory\n",
    "denoise_traj = [ase.Atoms(numbers=[6]*len(pos), positions=pos.cpu().numpy(), cell=cell.cpu().numpy(), pbc=[True]*3) for pos in pos_traj]\n",
    "for atoms in denoise_traj: atoms.wrap()\n",
    "ase.io.write('./tmp/denoise-traj-prior.extxyz', denoise_traj)"
   ]
  },
  {
   "attachments": {},
   "cell_type": "markdown",
   "id": "d6131999-dbee-464d-acd0-deb44872ac0a",
   "metadata": {},
   "source": [
    "## Conditional generation (the posterior)"
   ]
  },
  {
   "cell_type": "markdown",
   "id": "234fe569-2dc0-41e1-ac9d-6d33aa349c69",
   "metadata": {},
   "source": [
    "### Load forward model from a saved checkpoint"
   ]
  },
  {
   "cell_type": "code",
   "execution_count": 24,
   "id": "66c7b55d-bc7b-44d8-8e90-352105f50aad",
   "metadata": {},
   "outputs": [],
   "source": [
    "from lit.modules import LitXANESNet\n",
    "\n",
    "xanes_net = LitXANESNet.load_from_checkpoint(\n",
    "    './lit_logs/forward-a-C-r3/version_3/checkpoints/epoch=124-step=100000.ckpt'\n",
    ")"
   ]
  },
  {
   "attachments": {},
   "cell_type": "markdown",
   "id": "26a04365-c658-4249-a5ad-6d22ed5bb2bf",
   "metadata": {},
   "source": [
    "### Helper functions"
   ]
  },
  {
   "cell_type": "code",
   "execution_count": 25,
   "id": "5a18ea12-870c-40c7-9bb3-0ec2319b949c",
   "metadata": {},
   "outputs": [],
   "source": [
    "from torch import nn\n",
    "\n",
    "class LikelihoodScore_Chung(nn.Module):\n",
    "    def __init__(self, score_model, forward_model, y, rho=1.0):\n",
    "        super().__init__()\n",
    "        self.score_model = score_model\n",
    "        self.forward_model = forward_model\n",
    "        self.y = y\n",
    "        self.rho = rho\n",
    "\n",
    "    def forward(self, pos, cell, t, cutoff=3.0):\n",
    "        with torch.enable_grad():\n",
    "            z = torch.ones(pos.size(0), 1, device=pos.device)\n",
    "            \n",
    "            # Prepare for autograd\n",
    "            pos.detach()\n",
    "            pos.requires_grad = True\n",
    "\n",
    "            # Convert to graph\n",
    "            edge_index, edge_vec = periodic_radius_graph(pos, cutoff, cell)\n",
    "            edge_attr = torch.hstack([edge_vec, edge_vec.norm(dim=-1, keepdim=True)])\n",
    "\n",
    "            # Estimate clean pos\n",
    "            sigma = diffuser.sigma(t)\n",
    "            score = self.score_model(z, edge_index, edge_attr, t, sigma)\n",
    "            est_clean_pos = pos + sigma.pow(2)*score\n",
    "\n",
    "            # Convert to graph again\n",
    "            edge_index, edge_vec = periodic_radius_graph(pos, cutoff, cell)\n",
    "            edge_attr = torch.hstack([edge_vec, edge_vec.norm(dim=-1, keepdim=True)])\n",
    "\n",
    "            # Compute likelihood score\n",
    "            pred_y = self.forward_model(z, edge_index, edge_attr)\n",
    "            norm = torch.linalg.norm(self.y - pred_y, dim=1, keepdim=True)\n",
    "            grad = torch.autograd.grad([norm.square().mean()], pos)[0]\n",
    "        return - (self.rho / norm) * grad, norm\n",
    "\n",
    "def cond_score(pos, cell, t):\n",
    "    p_score = prior_score(pos, cell, t)\n",
    "    l_score, norm = likelihood_score(pos, cell, t)\n",
    "    print(f'p-score norm: {p_score.norm().item():.3f}, l-score norm: {l_score.norm().item():.3f}, tgt norm: {norm.mean().item():.4f}')\n",
    "    return p_score + l_score"
   ]
  },
  {
   "cell_type": "markdown",
   "id": "8b9ce660-abdb-45bd-95dc-8bcf84789f0a",
   "metadata": {},
   "source": [
    "### Define spectroscopy target/guide"
   ]
  },
  {
   "cell_type": "code",
   "execution_count": 26,
   "id": "54031e7a-1923-46c1-b6a9-b27958ebc36b",
   "metadata": {},
   "outputs": [
    {
     "data": {
      "image/png": "[encoded data removed]",
      "text/plain": [
       "<Figure size 640x480 with 1 Axes>"
      ]
     },
     "metadata": {},
     "output_type": "display_data"
    }
   ],
   "source": [
    "d15_xanes = np.genfromtxt('./data/a-C/dgp/xanes/train/d1.5_1.txt')\n",
    "d20_xanes = np.genfromtxt('./data/a-C/dgp/xanes/train/d2.0_1.txt')\n",
    "d25_xanes = np.genfromtxt('./data/a-C/dgp/xanes/train/d2.5_1.txt')\n",
    "d35_xanes = np.genfromtxt('./data/a-C/dgp/xanes/train/d3.5_2.txt')\n",
    "\n",
    "target_y = d35_xanes.mean(axis=0, keepdims=True)\n",
    "target_y = torch.tensor(target_y, dtype=torch.float, device=device)\n",
    "\n",
    "plt.plot(target_y.squeeze().cpu(), linewidth=4, color='tab:red', label='Target')\n",
    "plt.legend()\n",
    "plt.xlabel('Energy')\n",
    "plt.ylabel('Intensity')\n",
    "plt.xticks([])\n",
    "plt.yticks([])\n",
    "plt.show()"
   ]
  },
  {
   "attachments": {},
   "cell_type": "markdown",
   "id": "e6addcad-af20-41a3-b2bb-08d6bcbb9784",
   "metadata": {},
   "source": [
    "### Generate!\n",
    "\n",
    "Check the prior score vs. the likelihood score. In order to see conditioning effect, the magnitude of the likelihood term should be comparable to, or even greater than, that of the prior."
   ]
  },
  {
   "cell_type": "code",
   "execution_count": 27,
   "id": "3fda557a-d77e-454f-a77a-5e1a369377be",
   "metadata": {
    "scrolled": true,
    "tags": []
   },
   "outputs": [
    {
     "data": {
      "application/vnd.jupyter.widget-view+json": {
       "model_id": "ac109958f55c456687256e476835fba8",
       "version_major": 2,
       "version_minor": 0
      },
      "text/plain": [
       "  0%|          | 0/1 [00:00<?, ?it/s]"
      ]
     },
     "metadata": {},
     "output_type": "display_data"
    },
    {
     "name": "stdout",
     "output_type": "stream",
     "text": [
      "Structure 0 -----------------------------------------------\n",
      "p-score norm: 9.072, l-score norm: 486.493, tgt norm: 1.1016\n",
      "p-score norm: 9.665, l-score norm: 427.435, tgt norm: 1.0888\n",
      "p-score norm: 9.971, l-score norm: 374.234, tgt norm: 1.1239\n",
      "p-score norm: 10.711, l-score norm: 606.305, tgt norm: 1.1360\n",
      "p-score norm: 11.334, l-score norm: 458.004, tgt norm: 1.1082\n",
      "p-score norm: 11.994, l-score norm: 389.959, tgt norm: 1.1283\n",
      "p-score norm: 12.709, l-score norm: 429.217, tgt norm: 1.1385\n",
      "p-score norm: 13.774, l-score norm: 446.563, tgt norm: 1.1560\n",
      "p-score norm: 14.504, l-score norm: 395.883, tgt norm: 1.1476\n",
      "p-score norm: 15.343, l-score norm: 379.800, tgt norm: 1.1547\n",
      "p-score norm: 16.114, l-score norm: 339.741, tgt norm: 1.1251\n",
      "p-score norm: 17.276, l-score norm: 412.256, tgt norm: 1.1302\n",
      "p-score norm: 18.635, l-score norm: 312.405, tgt norm: 1.1241\n",
      "p-score norm: 19.633, l-score norm: 571.849, tgt norm: 1.1190\n",
      "p-score norm: 20.043, l-score norm: 766.973, tgt norm: 1.1182\n",
      "p-score norm: 21.394, l-score norm: 271.133, tgt norm: 1.1111\n",
      "p-score norm: 22.414, l-score norm: 321.394, tgt norm: 1.0863\n",
      "p-score norm: 23.859, l-score norm: 356.589, tgt norm: 1.0949\n",
      "p-score norm: 25.430, l-score norm: 346.454, tgt norm: 1.0886\n",
      "p-score norm: 27.202, l-score norm: 705.161, tgt norm: 1.1193\n",
      "p-score norm: 28.770, l-score norm: 430.364, tgt norm: 1.1006\n",
      "p-score norm: 31.054, l-score norm: 476.040, tgt norm: 1.1054\n",
      "p-score norm: 33.234, l-score norm: 354.116, tgt norm: 1.0868\n",
      "p-score norm: 36.165, l-score norm: 398.154, tgt norm: 1.0906\n",
      "p-score norm: 39.650, l-score norm: 323.877, tgt norm: 1.0970\n",
      "p-score norm: 41.289, l-score norm: 502.486, tgt norm: 1.0763\n",
      "p-score norm: 43.289, l-score norm: 296.304, tgt norm: 1.0878\n",
      "p-score norm: 47.945, l-score norm: 312.813, tgt norm: 1.0785\n",
      "p-score norm: 52.669, l-score norm: 374.996, tgt norm: 1.0887\n",
      "p-score norm: 55.399, l-score norm: 343.740, tgt norm: 1.0851\n",
      "p-score norm: 60.628, l-score norm: 375.204, tgt norm: 1.0861\n",
      "p-score norm: 64.607, l-score norm: 832.891, tgt norm: 1.0797\n",
      "p-score norm: 68.555, l-score norm: 286.059, tgt norm: 1.0559\n",
      "p-score norm: 73.391, l-score norm: 310.989, tgt norm: 1.0686\n",
      "p-score norm: 80.872, l-score norm: 278.107, tgt norm: 1.0587\n",
      "p-score norm: 88.289, l-score norm: 367.128, tgt norm: 1.0692\n",
      "p-score norm: 94.919, l-score norm: 400.677, tgt norm: 1.0846\n",
      "p-score norm: 101.638, l-score norm: 540.788, tgt norm: 1.0949\n",
      "p-score norm: 110.804, l-score norm: 513.665, tgt norm: 1.0814\n",
      "p-score norm: 122.839, l-score norm: 437.630, tgt norm: 1.0728\n",
      "p-score norm: 134.863, l-score norm: 383.703, tgt norm: 1.0850\n",
      "p-score norm: 145.903, l-score norm: 450.245, tgt norm: 1.0933\n",
      "p-score norm: 159.074, l-score norm: 375.686, tgt norm: 1.0887\n",
      "p-score norm: 170.923, l-score norm: 404.679, tgt norm: 1.0879\n",
      "p-score norm: 186.295, l-score norm: 635.408, tgt norm: 1.0980\n",
      "p-score norm: 203.345, l-score norm: 440.526, tgt norm: 1.0819\n",
      "p-score norm: 218.596, l-score norm: 451.486, tgt norm: 1.0880\n",
      "p-score norm: 238.162, l-score norm: 467.467, tgt norm: 1.0888\n",
      "p-score norm: 264.289, l-score norm: 503.841, tgt norm: 1.0833\n",
      "p-score norm: 297.265, l-score norm: 560.713, tgt norm: 1.1016\n",
      "p-score norm: 326.740, l-score norm: 715.724, tgt norm: 1.1197\n",
      "p-score norm: 377.515, l-score norm: 563.234, tgt norm: 1.1241\n",
      "p-score norm: 429.166, l-score norm: 635.636, tgt norm: 1.1205\n",
      "p-score norm: 472.174, l-score norm: 647.678, tgt norm: 1.1100\n",
      "p-score norm: 532.726, l-score norm: 900.935, tgt norm: 1.1291\n",
      "p-score norm: 614.406, l-score norm: 770.231, tgt norm: 1.1307\n",
      "p-score norm: 705.828, l-score norm: 768.752, tgt norm: 1.1537\n",
      "p-score norm: 837.763, l-score norm: 816.869, tgt norm: 1.1702\n",
      "p-score norm: 1019.997, l-score norm: 784.690, tgt norm: 1.1810\n",
      "p-score norm: 1299.372, l-score norm: 727.214, tgt norm: 1.1895\n",
      "p-score norm: 1680.667, l-score norm: 695.997, tgt norm: 1.1901\n",
      "p-score norm: 2408.767, l-score norm: 559.645, tgt norm: 1.2058\n",
      "p-score norm: 5380.251, l-score norm: 521.522, tgt norm: 1.2196\n",
      "p-score norm: 62649.625, l-score norm: 499.287, tgt norm: 1.2335\n",
      "  Coordination (final): [  0   0  34 338  37]\n"
     ]
    }
   ],
   "source": [
    "import functools\n",
    "from tqdm.notebook import trange\n",
    "\n",
    "# Setup\n",
    "NUM_GEN = 1\n",
    "BOX_DIM = [16.]*3\n",
    "box = torch.tensor(BOX_DIM).to(device)\n",
    "cell = torch.diag(box)\n",
    "score_net.ema_model.to(device)\n",
    "xanes_net.ema_model.to(device)\n",
    "\n",
    "# Likelihood score model\n",
    "likelihood_score = LikelihoodScore_Chung(score_model=score_net.ema_model, forward_model=xanes_net.ema_model, y=target_y, rho=800.0)\n",
    "\n",
    "posteriors = []\n",
    "with torch.no_grad():\n",
    "    for i in trange(NUM_GEN):\n",
    "        print(f'Structure {i} -----------------------------------------------')\n",
    "        # Start with a random initialization\n",
    "        density = d20_density\n",
    "        num_nodes = int(density * np.prod(BOX_DIM))\n",
    "        pos = torch.empty(num_nodes, 3, device=device).uniform_(0, BOX_DIM[0])\n",
    "        \n",
    "        # Generate by SDE\n",
    "        pos_traj = denoise_by_sde(pos, cell, cond_score, ts=torch.linspace(0.999, 0.001, 64+1))\n",
    "\n",
    "        # 'Restart' sampling really helps avoid CN1 carbon generation\n",
    "        for _ in range(4):\n",
    "            pos, _ = diffuser.forward_noise(pos, t=0.4)\n",
    "            pos_traj_ = denoise_by_sde(pos, cell, prior_score, ts=torch.linspace(0.4, 0.001, 25+1))\n",
    "            pos = pos_traj_[-1]\n",
    "        \n",
    "        # Convert generation to ASE Atoms\n",
    "        atoms = ase.Atoms(numbers=[6]*len(pos), positions=pos_traj[-1].detach().cpu().numpy(), cell=cell.cpu().numpy(), pbc=[True]*3)\n",
    "        atoms.wrap()\n",
    "        posteriors.append(atoms)\n",
    "\n",
    "        # Check coordination numbers\n",
    "        CN = coord_num(pos, cutoff=1.8, cell=cell)\n",
    "        print(f'  Coordination (final): {torch.bincount(CN).cpu().numpy()}')"
   ]
  },
  {
   "cell_type": "markdown",
   "id": "d13d72ba-b947-4b5f-91f1-a97398c34511",
   "metadata": {},
   "source": [
    "### Save generations"
   ]
  },
  {
   "cell_type": "code",
   "execution_count": 28,
   "id": "e5323b46-c2e0-4148-8343-5f30e78766ae",
   "metadata": {},
   "outputs": [],
   "source": [
    "import ase\n",
    "\n",
    "# Save all generations\n",
    "# for i, atoms in enumerate(posteriors):\n",
    "    # ase.io.write(f'./tmp/post-tgt-is-d35/{i}.extxyz', atoms)\n",
    "\n",
    "# Save the last denosing trajectory\n",
    "denoise_traj = [ase.Atoms(numbers=[6]*len(pos), positions=pos.cpu().numpy(), cell=cell.cpu().numpy(), pbc=[True]*3) for pos in pos_traj]\n",
    "for atoms in denoise_traj: atoms.wrap()\n",
    "ase.io.write('./tmp/denoise-traj-posterior_.extxyz', denoise_traj)"
   ]
  },
  {
   "cell_type": "code",
   "execution_count": null,
   "id": "ed23f43c-2444-44ee-a7c2-59d5097dabfa",
   "metadata": {},
   "outputs": [],
   "source": [
    "\n",
    "\n",
    "\n",
    "\n",
    "\n",
    "\n",
    "\n",
    "\n",
    "\n",
    "\n",
    "\n",
    "\n",
    "\n",
    "\n",
    "\n",
    "\n",
    "\n",
    "\n",
    "\n",
    "\n",
    "\n",
    "\n",
    "\n",
    "\n",
    "\n",
    "\n"
   ]
  }
 ],
 "metadata": {
  "kernelspec": {
   "display_name": "Python 3 (ipykernel)",
   "language": "python",
   "name": "python3"
  },
  "language_info": {
   "codemirror_mode": {
    "name": "ipython",
    "version": 3
   },
   "file_extension": ".py",
   "mimetype": "text/x-python",
   "name": "python",
   "nbconvert_exporter": "python",
   "pygments_lexer": "ipython3",
   "version": "3.10.11"
  },
  "toc-autonumbering": false,
  "toc-showcode": false
 },
 "nbformat": 4,
 "nbformat_minor": 5
}
