{
 "cells": [
  {
   "attachments": {},
   "cell_type": "markdown",
   "id": "ced8d9ba-462f-4f00-8f47-f0afc48dd20b",
   "metadata": {},
   "source": [
    "# Amorphous structure generation\n",
    "\n",
    "This notebook is broken down into the following components:\n",
    "- Train the prior score model, which is the basis for the unconditional diffusion model.\n",
    "- Load a trained prior score model, and perform unconditional generation.\n",
    "- Lastly, load a trained forward model, and perform spectroscopy-guided generation."
   ]
  },
  {
   "cell_type": "code",
   "execution_count": 1,
   "id": "327ac2a4",
   "metadata": {},
   "outputs": [],
   "source": [
    "import torch\n",
    "import numpy as np\n",
    "import matplotlib.pyplot as plt\n",
    "import seaborn as sns; sns.set_context('talk')  # optional\n",
    "\n",
    "# I have a PyG version that prints a specific but otherwise harmless warning.\n",
    "import warnings; warnings.filterwarnings('ignore', '.*TypedStorage is deprecated.*')"
   ]
  },
  {
   "attachments": {},
   "cell_type": "markdown",
   "id": "4e7e59bf-b176-4ea1-8d5c-bbee9495d424",
   "metadata": {},
   "source": [
    "## Training"
   ]
  },
  {
   "attachments": {},
   "cell_type": "markdown",
   "id": "d77e557f-a1b2-42bf-87f7-3fe532927a51",
   "metadata": {},
   "source": [
    "### Create lightning datamodule and module instances\n",
    "\n",
    "A lot of details are hidden away for your convenience using PyTorch Lightning. They include:\n",
    "- How the data is loaded, processed, batched, and so on.\n",
    "- GNN model definitions.\n",
    "- How the models (prior and forward) are trained, which optimizer, exponential moving average, etc.\n",
    "\n",
    "These implementations can be found at `./lit/` if you are interested."
   ]
  },
  {
   "cell_type": "code",
   "execution_count": 3,
   "id": "95a0d6c2-30ac-416d-9f38-509e5aa8c787",
   "metadata": {
    "tags": []
   },
   "outputs": [
    {
     "name": "stderr",
     "output_type": "stream",
     "text": [
      "Lightning automatically upgraded your loaded checkpoint from v1.6.5 to v2.0.2. To apply the upgrade to your files permanently, run `python -m lightning.pytorch.utilities.upgrade_checkpoint --file lit_logs/prior-a-C-r3-k0.8/version_6/checkpoints/epoch=4043-step=808800.ckpt`\n"
     ]
    }
   ],
   "source": [
    "from lit.datamodules import StructureXANESDataModule\n",
    "from lit.modules import LitScoreNet\n",
    "\n",
    "datamodule = StructureXANESDataModule(\n",
    "    data_dir    = './data/a-C/dgp/',  # where the data is\n",
    "    cutoff      = 3.0,                # cutoff fradius for atomic graph construction\n",
    "    train_prior = True,               # whether this data module is used for training a prior score model\n",
    "    k           = 0.8,                # maximum noise level to be applied (irrelevant if training forward model)\n",
    "    train_size  = 0.9,                # used for train-validation split (irrelevant if training prior score model)\n",
    "    scale_y     = 1.0,                # scale the spectroscopy curve (irrelevant if training prior score model)\n",
    "    dup         = 128,                # duplicate data for longer epochs\n",
    "    batch_size  = 8,                  # number of structure frames in a single batch\n",
    "    num_workers = 4,                  # number of workers for the dataloader\n",
    ")\n",
    "\n",
    "# New model instance\n",
    "# score_net = LitScoreNet(num_species=1, num_convs=5, dim=200, ema_decay=0.9999, learn_rate=1e-3)\n",
    "\n",
    "# Load model weights from a saved checkpoint\n",
    "score_net = LitScoreNet.load_from_checkpoint(\n",
    "    './lit_logs/prior-a-C-r3-k0.8/version_6/checkpoints/epoch=4043-step=808800.ckpt'\n",
    ")"
   ]
  },
  {
   "cell_type": "markdown",
   "id": "55f6fcbd-b998-4c89-b399-89f033c99e04",
   "metadata": {},
   "source": [
    "### Start training session"
   ]
  },
  {
   "cell_type": "code",
   "execution_count": null,
   "id": "f203ca2e-07a6-4e88-a6c7-96ea92c6f79d",
   "metadata": {},
   "outputs": [],
   "source": [
    "import lightning.pytorch as pl\n",
    "from lightning.pytorch.callbacks import TQDMProgressBar\n",
    "from lightning.pytorch.loggers import TensorBoardLogger\n",
    "\n",
    "MAX_STEPS = 100_000\n",
    "RUN_NAME  = 'prior-a-C-r3-k0.8'\n",
    "CKPT_PATH = None\n",
    "\n",
    "logger = TensorBoardLogger(save_dir='./lit_logs/', name=RUN_NAME)\n",
    "callbacks = [TQDMProgressBar(refresh_rate=8)]\n",
    "trainer = pl.Trainer(logger=logger, max_steps=MAX_STEPS, callbacks=callbacks)\n",
    "trainer.fit(score_net, datamodule, ckpt_path=CKPT_PATH)"
   ]
  },
  {
   "attachments": {},
   "cell_type": "markdown",
   "id": "831f1e2d-f5aa-4ca6-8b19-70496c60153a",
   "metadata": {},
   "source": [
    "## Unconditional generation (the prior)"
   ]
  },
  {
   "attachments": {},
   "cell_type": "markdown",
   "id": "6d6467b5-d3fc-4304-8414-48bf899a6d1e",
   "metadata": {},
   "source": [
    "### Helper modules and functions"
   ]
  },
  {
   "cell_type": "code",
   "execution_count": 9,
   "id": "619379d8-87f7-40dc-b8e8-1edff1d1ba17",
   "metadata": {},
   "outputs": [],
   "source": [
    "from graphite.nn import periodic_radius_graph_bruteforce\n",
    "\n",
    "diffuser = datamodule.train_set.diffuser\n",
    "\n",
    "def prior_score(pos, cell, t, cutoff=3.0):\n",
    "    z = torch.ones(pos.size(0), 1, device=pos.device)\n",
    "    edge_index, edge_vec = periodic_radius_graph_bruteforce(pos, cutoff, cell)\n",
    "    edge_len  = edge_vec.norm(dim=-1, keepdim=True)\n",
    "    edge_attr = torch.hstack([edge_vec, edge_len])\n",
    "    return score_net.ema_model(z, edge_index, edge_attr, t, diffuser.sigma(t))\n",
    "\n",
    "def denoise_by_sde(pos, cell, score_fn, ts=torch.linspace(0.999, 0.001, 128+1)):\n",
    "    ts = ts.to(pos.device).view(-1, 1)\n",
    "    pos_traj = [pos.clone()]\n",
    "    f, g, g2 = diffuser.f, diffuser.g, diffuser.g2\n",
    "    for i, t in enumerate(ts[1:]):\n",
    "        dt = ts[i+1] - ts[i]\n",
    "        eps = dt.abs().sqrt() * torch.randn_like(pos)\n",
    "        score = score_fn(pos, cell, t)\n",
    "        disp = (f(t)*pos - g2(t)*score)*dt + g(t)*eps\n",
    "        pos += disp\n",
    "        pos_traj.append(pos.clone())\n",
    "    return torch.stack(pos_traj)\n",
    "\n",
    "def coord_num(pos, cutoff, cell):\n",
    "    edge_index, _  = periodic_radius_graph_bruteforce(pos, cutoff, cell)\n",
    "    i = edge_index[0]\n",
    "    return torch.bincount(i)\n",
    "\n",
    "def remove_CN1_carbons(pos, cutoff, cell):\n",
    "    CN = coord_num(pos, cutoff, cell)\n",
    "    while 1 in CN:\n",
    "        print(f'  There are {(CN==1).sum()} CN1 carbons.')\n",
    "        mask = (CN != 1)\n",
    "        pos = pos[mask]\n",
    "        CN = coord_num(pos, cutoff, cell)\n",
    "    return pos"
   ]
  },
  {
   "cell_type": "code",
   "execution_count": 10,
   "id": "f64f520b-94ae-42eb-b285-2e4b485186a9",
   "metadata": {},
   "outputs": [],
   "source": [
    "diamond_density  = 0.1763\n",
    "graphite_density = 0.1136\n",
    "d15_density      = 0.0750\n",
    "d20_density      = 0.1000\n",
    "d25_density      = 0.1250\n",
    "d35_density      = 0.1751"
   ]
  },
  {
   "attachments": {},
   "cell_type": "markdown",
   "id": "0b1ea089-8751-4ff9-8d6a-9efb311fa8f0",
   "metadata": {},
   "source": [
    "### Generate"
   ]
  },
  {
   "cell_type": "code",
   "execution_count": 26,
   "id": "b96a4601-b72e-4454-abb5-aea3ecb7c69b",
   "metadata": {},
   "outputs": [
    {
     "data": {
      "application/vnd.jupyter.widget-view+json": {
       "model_id": "ae80655e7f8941d8ba1735a2f8266783",
       "version_major": 2,
       "version_minor": 0
      },
      "text/plain": [
       "  0%|          | 0/1 [00:00<?, ?it/s]"
      ]
     },
     "metadata": {},
     "output_type": "display_data"
    },
    {
     "name": "stdout",
     "output_type": "stream",
     "text": [
      "Gen  0. Density: 0.075\n",
      "  Coordination (final): [  0   0  97 202   8]\n"
     ]
    }
   ],
   "source": [
    "import random\n",
    "import ase\n",
    "from tqdm.notebook import trange\n",
    "\n",
    "# Setup\n",
    "NUM_GEN = 1       # number of generations/cells\n",
    "BOX_DIM = [16.]*3  # box dimensions\n",
    "\n",
    "device = 'cuda'\n",
    "cell = torch.diag(torch.tensor(BOX_DIM)).to(device)\n",
    "score_net.ema_model.to(device)\n",
    "\n",
    "priors = []\n",
    "with torch.no_grad():\n",
    "    for i in trange(NUM_GEN):\n",
    "        # Specify density\n",
    "        density = d15_density\n",
    "        print(f'Gen {i:>2}. Density: {density:.3f}')\n",
    "        \n",
    "        # Start with a random structure\n",
    "        num_nodes = int(density * np.prod(BOX_DIM))\n",
    "        pos = torch.empty(num_nodes, 3, device=device).uniform_(0, BOX_DIM[0])\n",
    "\n",
    "        # Denoise\n",
    "        pos_traj = denoise_by_sde(pos, cell, prior_score, ts=torch.linspace(0.999, 0.001, 64+1))\n",
    "        pos = pos_traj[-1]\n",
    "\n",
    "        # Remove CN1 carbons (manually)\n",
    "        # pos = remove_CN1_carbons(pos_traj[-1], cutoff=1.8, cell=cell)\n",
    "\n",
    "        # 'Restart' sampling really helps avoid CN1 carbon generation\n",
    "        # for _ in range(4):\n",
    "        #     pos, _ = diffuser.forward_noise(pos, t=0.4)\n",
    "        #     pos_traj_ = denoise_by_sde(pos, cell, prior_score, ts=torch.linspace(0.4, 0.001, 25+1))\n",
    "        #     pos = pos_traj_[-1]\n",
    "        \n",
    "        # Convert generation to ASE Atoms\n",
    "        atoms = ase.Atoms(numbers=[6]*len(pos), positions=pos.detach().cpu().numpy(), cell=cell.cpu().numpy(), pbc=[True]*3)\n",
    "        atoms.wrap()\n",
    "        priors.append(atoms)\n",
    "\n",
    "        # Check coordination numbers\n",
    "        CN = coord_num(pos, cutoff=1.8, cell=cell)\n",
    "        print(f'  Coordination (final): {torch.bincount(CN).cpu().numpy()}')"
   ]
  },
  {
   "cell_type": "markdown",
   "id": "4b751187-df3f-4f1d-ba6e-099c5abd38b7",
   "metadata": {},
   "source": [
    "#### Save generations"
   ]
  },
  {
   "cell_type": "code",
   "execution_count": 27,
   "id": "f151a7c0-44b5-4390-b633-18039037bf57",
   "metadata": {},
   "outputs": [],
   "source": [
    "import ase.io\n",
    "\n",
    "# Save all generations\n",
    "# for i, atoms in enumerate(priors):\n",
    "    # ase.io.write(f'./tmp/priors/{i}.extxyz', atoms)\n",
    "\n",
    "# Save the last denosing trajectory\n",
    "denoise_traj = [ase.Atoms(numbers=[6]*len(pos), positions=pos.cpu().numpy(), cell=cell.cpu().numpy(), pbc=[True]*3) for pos in pos_traj]\n",
    "for atoms in denoise_traj: atoms.wrap()\n",
    "ase.io.write('./tmp/denoise-traj-prior.extxyz', denoise_traj)"
   ]
  },
  {
   "attachments": {},
   "cell_type": "markdown",
   "id": "d6131999-dbee-464d-acd0-deb44872ac0a",
   "metadata": {},
   "source": [
    "## Conditional generation (the posterior)"
   ]
  },
  {
   "cell_type": "markdown",
   "id": "234fe569-2dc0-41e1-ac9d-6d33aa349c69",
   "metadata": {},
   "source": [
    "### Load forward model from a saved checkpoint"
   ]
  },
  {
   "cell_type": "code",
   "execution_count": 16,
   "id": "66c7b55d-bc7b-44d8-8e90-352105f50aad",
   "metadata": {},
   "outputs": [],
   "source": [
    "from lit.modules import LitXANESNet\n",
    "\n",
    "xanes_net = LitXANESNet.load_from_checkpoint(\n",
    "    './lit_logs/forward-a-C-r3/version_3/checkpoints/epoch=124-step=100000.ckpt'\n",
    ")"
   ]
  },
  {
   "attachments": {},
   "cell_type": "markdown",
   "id": "26a04365-c658-4249-a5ad-6d22ed5bb2bf",
   "metadata": {},
   "source": [
    "### Helper functions"
   ]
  },
  {
   "cell_type": "code",
   "execution_count": 17,
   "id": "5a18ea12-870c-40c7-9bb3-0ec2319b949c",
   "metadata": {},
   "outputs": [],
   "source": [
    "from torch import nn\n",
    "\n",
    "class LikelihoodScore_Chung(nn.Module):\n",
    "    def __init__(self, score_model, forward_model, y, rho=1.0):\n",
    "        super().__init__()\n",
    "        self.score_model = score_model\n",
    "        self.forward_model = forward_model\n",
    "        self.y = y\n",
    "        self.rho = rho\n",
    "\n",
    "    def forward(self, pos, cell, t, cutoff=3.0):\n",
    "        with torch.enable_grad():\n",
    "            z = torch.ones(pos.size(0), 1, device=pos.device)\n",
    "            \n",
    "            # Prepare for autograd\n",
    "            pos.detach()\n",
    "            pos.requires_grad = True\n",
    "\n",
    "            # Convert to graph\n",
    "            edge_index, edge_vec = periodic_radius_graph_bruteforce(pos, cutoff, cell)\n",
    "            edge_attr = torch.hstack([edge_vec, edge_vec.norm(dim=-1, keepdim=True)])\n",
    "\n",
    "            # Estimate clean pos\n",
    "            sigma = diffuser.sigma(t)\n",
    "            score = self.score_model(z, edge_index, edge_attr, t, sigma)\n",
    "            est_clean_pos = pos + sigma.pow(2)*score\n",
    "\n",
    "            # Convert to graph again\n",
    "            edge_index, edge_vec = periodic_radius_graph_bruteforce(pos, cutoff, cell)\n",
    "            edge_attr = torch.hstack([edge_vec, edge_vec.norm(dim=-1, keepdim=True)])\n",
    "\n",
    "            # Compute likelihood score\n",
    "            pred_y = self.forward_model(z, edge_index, edge_attr)\n",
    "            norm = torch.linalg.norm(self.y - pred_y, dim=1, keepdim=True)\n",
    "            grad = torch.autograd.grad([norm.square().mean()], pos)[0]\n",
    "        return - (self.rho / norm) * grad, norm\n",
    "\n",
    "def cond_score(pos, cell, t):\n",
    "    p_score = prior_score(pos, cell, t)\n",
    "    l_score, norm = likelihood_score(pos, cell, t)\n",
    "    print(f'p-score norm: {p_score.norm().item():.3f}, l-score norm: {l_score.norm().item():.3f}, tgt norm: {norm.mean().item():.4f}')\n",
    "    return p_score + l_score"
   ]
  },
  {
   "cell_type": "markdown",
   "id": "8b9ce660-abdb-45bd-95dc-8bcf84789f0a",
   "metadata": {},
   "source": [
    "### Define spectroscopy target/guide"
   ]
  },
  {
   "cell_type": "code",
   "execution_count": 18,
   "id": "54031e7a-1923-46c1-b6a9-b27958ebc36b",
   "metadata": {},
   "outputs": [
    {
     "data": {
      "image/png": "[encoded data removed]",
      "text/plain": [
       "<Figure size 640x480 with 1 Axes>"
      ]
     },
     "metadata": {},
     "output_type": "display_data"
    }
   ],
   "source": [
    "d15_xanes = np.genfromtxt('./data/a-C/dgp/xanes/train/d1.5_1.txt')\n",
    "d20_xanes = np.genfromtxt('./data/a-C/dgp/xanes/train/d2.0_1.txt')\n",
    "d25_xanes = np.genfromtxt('./data/a-C/dgp/xanes/train/d2.5_1.txt')\n",
    "d35_xanes = np.genfromtxt('./data/a-C/dgp/xanes/train/d3.5_2.txt')\n",
    "\n",
    "target_y = d35_xanes.mean(axis=0, keepdims=True)\n",
    "target_y = torch.tensor(target_y, dtype=torch.float, device=device)\n",
    "\n",
    "plt.plot(target_y.squeeze().cpu(), linewidth=4, color='tab:red', label='Target')\n",
    "plt.legend()\n",
    "plt.xlabel('Energy')\n",
    "plt.ylabel('Intensity')\n",
    "plt.xticks([])\n",
    "plt.yticks([])\n",
    "plt.show()"
   ]
  },
  {
   "attachments": {},
   "cell_type": "markdown",
   "id": "e6addcad-af20-41a3-b2bb-08d6bcbb9784",
   "metadata": {},
   "source": [
    "### Generate!\n",
    "\n",
    "Check the prior score vs. the likelihood score. In order to see conditioning effect, the magnitude of the likelihood term should be comparable to, or even greater than, that of the prior."
   ]
  },
  {
   "cell_type": "code",
   "execution_count": 22,
   "id": "3fda557a-d77e-454f-a77a-5e1a369377be",
   "metadata": {
    "scrolled": true,
    "tags": []
   },
   "outputs": [
    {
     "data": {
      "application/vnd.jupyter.widget-view+json": {
       "model_id": "5f45f52a47bc4d0facdc6b4a5a32eb26",
       "version_major": 2,
       "version_minor": 0
      },
      "text/plain": [
       "  0%|          | 0/1 [00:00<?, ?it/s]"
      ]
     },
     "metadata": {},
     "output_type": "display_data"
    },
    {
     "name": "stdout",
     "output_type": "stream",
     "text": [
      "Structure 0 -----------------------------------------------\n",
      "p-score norm: 8.365, l-score norm: 694.178, tgt norm: 1.1107\n",
      "p-score norm: 8.540, l-score norm: 566.641, tgt norm: 1.0972\n",
      "p-score norm: 9.259, l-score norm: 501.004, tgt norm: 1.1162\n",
      "p-score norm: 9.992, l-score norm: 679.239, tgt norm: 1.1327\n",
      "p-score norm: 10.698, l-score norm: 441.096, tgt norm: 1.1319\n",
      "p-score norm: 11.428, l-score norm: 515.155, tgt norm: 1.1240\n",
      "p-score norm: 12.098, l-score norm: 638.771, tgt norm: 1.1335\n",
      "p-score norm: 12.502, l-score norm: 508.962, tgt norm: 1.1474\n",
      "p-score norm: 13.739, l-score norm: 410.019, tgt norm: 1.1484\n",
      "p-score norm: 15.082, l-score norm: 370.242, tgt norm: 1.1464\n",
      "p-score norm: 15.776, l-score norm: 340.108, tgt norm: 1.1589\n",
      "p-score norm: 16.770, l-score norm: 383.117, tgt norm: 1.1356\n",
      "p-score norm: 17.847, l-score norm: 461.169, tgt norm: 1.1338\n",
      "p-score norm: 19.704, l-score norm: 537.513, tgt norm: 1.1467\n",
      "p-score norm: 20.125, l-score norm: 334.077, tgt norm: 1.1388\n",
      "p-score norm: 21.563, l-score norm: 354.624, tgt norm: 1.1498\n",
      "p-score norm: 23.453, l-score norm: 386.673, tgt norm: 1.1548\n",
      "p-score norm: 24.078, l-score norm: 290.173, tgt norm: 1.1298\n",
      "p-score norm: 25.456, l-score norm: 392.298, tgt norm: 1.1394\n",
      "p-score norm: 27.997, l-score norm: 301.577, tgt norm: 1.1422\n",
      "p-score norm: 29.141, l-score norm: 332.720, tgt norm: 1.1261\n",
      "p-score norm: 31.315, l-score norm: 353.920, tgt norm: 1.1232\n",
      "p-score norm: 33.255, l-score norm: 444.549, tgt norm: 1.1250\n",
      "p-score norm: 35.707, l-score norm: 334.555, tgt norm: 1.1138\n",
      "p-score norm: 37.833, l-score norm: 350.796, tgt norm: 1.1123\n",
      "p-score norm: 40.362, l-score norm: 300.376, tgt norm: 1.1013\n",
      "p-score norm: 43.189, l-score norm: 534.656, tgt norm: 1.0947\n",
      "p-score norm: 45.194, l-score norm: 348.403, tgt norm: 1.1014\n",
      "p-score norm: 50.021, l-score norm: 472.157, tgt norm: 1.1151\n",
      "p-score norm: 54.366, l-score norm: 417.102, tgt norm: 1.1135\n",
      "p-score norm: 59.126, l-score norm: 505.377, tgt norm: 1.1043\n",
      "p-score norm: 61.472, l-score norm: 390.532, tgt norm: 1.1049\n",
      "p-score norm: 67.978, l-score norm: 401.350, tgt norm: 1.1079\n",
      "p-score norm: 73.162, l-score norm: 381.399, tgt norm: 1.0974\n",
      "p-score norm: 80.183, l-score norm: 394.353, tgt norm: 1.0884\n",
      "p-score norm: 84.695, l-score norm: 561.717, tgt norm: 1.1162\n",
      "p-score norm: 91.228, l-score norm: 384.074, tgt norm: 1.0752\n",
      "p-score norm: 99.912, l-score norm: 379.503, tgt norm: 1.0966\n",
      "p-score norm: 108.209, l-score norm: 467.638, tgt norm: 1.1152\n",
      "p-score norm: 116.738, l-score norm: 393.991, tgt norm: 1.0904\n",
      "p-score norm: 128.174, l-score norm: 492.474, tgt norm: 1.1021\n",
      "p-score norm: 139.779, l-score norm: 560.489, tgt norm: 1.1003\n",
      "p-score norm: 153.532, l-score norm: 504.966, tgt norm: 1.0792\n",
      "p-score norm: 166.891, l-score norm: 573.394, tgt norm: 1.1043\n",
      "p-score norm: 181.927, l-score norm: 346.698, tgt norm: 1.1089\n",
      "p-score norm: 195.060, l-score norm: 590.550, tgt norm: 1.0925\n",
      "p-score norm: 216.378, l-score norm: 562.496, tgt norm: 1.1151\n",
      "p-score norm: 240.504, l-score norm: 493.706, tgt norm: 1.1166\n",
      "p-score norm: 255.614, l-score norm: 495.075, tgt norm: 1.0998\n",
      "p-score norm: 288.696, l-score norm: 548.727, tgt norm: 1.1084\n",
      "p-score norm: 324.094, l-score norm: 598.852, tgt norm: 1.1125\n",
      "p-score norm: 364.021, l-score norm: 641.805, tgt norm: 1.1198\n",
      "p-score norm: 410.850, l-score norm: 841.714, tgt norm: 1.1178\n",
      "p-score norm: 470.652, l-score norm: 622.529, tgt norm: 1.1248\n",
      "p-score norm: 546.495, l-score norm: 802.211, tgt norm: 1.1576\n",
      "p-score norm: 646.132, l-score norm: 769.212, tgt norm: 1.1721\n",
      "p-score norm: 750.505, l-score norm: 852.064, tgt norm: 1.1894\n",
      "p-score norm: 911.248, l-score norm: 751.671, tgt norm: 1.1848\n",
      "p-score norm: 1091.728, l-score norm: 786.476, tgt norm: 1.1846\n",
      "p-score norm: 1332.458, l-score norm: 784.025, tgt norm: 1.1922\n",
      "p-score norm: 1734.827, l-score norm: 597.118, tgt norm: 1.2082\n",
      "p-score norm: 2523.890, l-score norm: 644.668, tgt norm: 1.2188\n",
      "p-score norm: 5518.757, l-score norm: 510.969, tgt norm: 1.2294\n",
      "p-score norm: 62384.566, l-score norm: 504.904, tgt norm: 1.2378\n",
      "  Coordination (final): [  0   0  24 360  25]\n"
     ]
    }
   ],
   "source": [
    "import functools\n",
    "from tqdm.notebook import trange\n",
    "\n",
    "# Setup\n",
    "NUM_GEN = 1\n",
    "BOX_DIM = [16.]*3\n",
    "box = torch.tensor(BOX_DIM).to(device)\n",
    "cell = torch.diag(box)\n",
    "score_net.ema_model.to(device)\n",
    "xanes_net.ema_model.to(device)\n",
    "\n",
    "# Likelihood score model\n",
    "likelihood_score = LikelihoodScore_Chung(score_model=score_net.ema_model, forward_model=xanes_net.ema_model, y=target_y, rho=800.0)\n",
    "\n",
    "posteriors = []\n",
    "with torch.no_grad():\n",
    "    for i in trange(NUM_GEN):\n",
    "        print(f'Structure {i} -----------------------------------------------')\n",
    "        # Start with a random initialization\n",
    "        density = d20_density\n",
    "        num_nodes = int(density * np.prod(BOX_DIM))\n",
    "        pos = torch.empty(num_nodes, 3, device=device).uniform_(0, BOX_DIM[0])\n",
    "        \n",
    "        # Generate by SDE\n",
    "        pos_traj = denoise_by_sde(pos, cell, cond_score, ts=torch.linspace(0.999, 0.001, 64+1))\n",
    "\n",
    "        # 'Restart' sampling really helps avoid CN1 carbon generation\n",
    "        for _ in range(4):\n",
    "            pos, _ = diffuser.forward_noise(pos, t=0.4)\n",
    "            pos_traj_ = denoise_by_sde(pos, cell, prior_score, ts=torch.linspace(0.4, 0.001, 25+1))\n",
    "            pos = pos_traj_[-1]\n",
    "        \n",
    "        # Convert generation to ASE Atoms\n",
    "        atoms = ase.Atoms(numbers=[6]*len(pos), positions=pos_traj[-1].detach().cpu().numpy(), cell=cell.cpu().numpy(), pbc=[True]*3)\n",
    "        atoms.wrap()\n",
    "        posteriors.append(atoms)\n",
    "\n",
    "        # Check coordination numbers\n",
    "        CN = coord_num(pos, cutoff=1.8, cell=cell)\n",
    "        print(f'  Coordination (final): {torch.bincount(CN).cpu().numpy()}')"
   ]
  },
  {
   "cell_type": "markdown",
   "id": "d13d72ba-b947-4b5f-91f1-a97398c34511",
   "metadata": {},
   "source": [
    "### Save generations"
   ]
  },
  {
   "cell_type": "code",
   "execution_count": 23,
   "id": "e5323b46-c2e0-4148-8343-5f30e78766ae",
   "metadata": {},
   "outputs": [],
   "source": [
    "import ase\n",
    "\n",
    "# Save all generations\n",
    "# for i, atoms in enumerate(posteriors):\n",
    "    # ase.io.write(f'./tmp/post-tgt-is-d35/{i}.extxyz', atoms)\n",
    "\n",
    "# Save the last denosing trajectory\n",
    "denoise_traj = [ase.Atoms(numbers=[6]*len(pos), positions=pos.cpu().numpy(), cell=cell.cpu().numpy(), pbc=[True]*3) for pos in pos_traj]\n",
    "for atoms in denoise_traj: atoms.wrap()\n",
    "ase.io.write('./tmp/denoise-traj-posterior.extxyz', denoise_traj)"
   ]
  },
  {
   "cell_type": "code",
   "execution_count": null,
   "id": "ed23f43c-2444-44ee-a7c2-59d5097dabfa",
   "metadata": {},
   "outputs": [],
   "source": [
    "\n",
    "\n",
    "\n",
    "\n",
    "\n",
    "\n",
    "\n",
    "\n",
    "\n",
    "\n",
    "\n",
    "\n",
    "\n",
    "\n",
    "\n",
    "\n",
    "\n",
    "\n",
    "\n",
    "\n",
    "\n",
    "\n",
    "\n",
    "\n",
    "\n",
    "\n"
   ]
  }
 ],
 "metadata": {
  "kernelspec": {
   "display_name": "Python 3 (ipykernel)",
   "language": "python",
   "name": "python3"
  },
  "language_info": {
   "codemirror_mode": {
    "name": "ipython",
    "version": 3
   },
   "file_extension": ".py",
   "mimetype": "text/x-python",
   "name": "python",
   "nbconvert_exporter": "python",
   "pygments_lexer": "ipython3",
   "version": "3.10.11"
  },
  "toc-autonumbering": false,
  "toc-showcode": false
 },
 "nbformat": 4,
 "nbformat_minor": 5
}
