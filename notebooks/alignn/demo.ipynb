{
 "cells": [
  {
   "cell_type": "markdown",
   "id": "577a6949-7f49-4fe8-a163-c8ef9779ed96",
   "metadata": {},
   "source": [
    "# ALIGNN/ALIGNN-d graph representation for molecular structures\n",
    "\n",
    "This notebook will guide you through encoding molecular structures into the ALIGNN/ALIGNN-d graph representation.\n",
    "\n",
    "You will need to install `ase` for reading molecular structure files and creating molecular graphs."
   ]
  },
  {
   "cell_type": "code",
   "execution_count": 1,
   "id": "2de0141d-2680-49d0-bdac-aeaade04b091",
   "metadata": {},
   "outputs": [],
   "source": [
    "import numpy as np\n",
    "import torch\n",
    "import matplotlib.pyplot as plt\n",
    "import ase.io"
   ]
  },
  {
   "cell_type": "markdown",
   "id": "dbcc3735-82b2-4ab1-bf52-188d2c6d73ab",
   "metadata": {},
   "source": [
    "## Read structure files"
   ]
  },
  {
   "cell_type": "code",
   "execution_count": 2,
   "id": "a51335cd-d447-42b7-84df-ed1f409d5985",
   "metadata": {},
   "outputs": [],
   "source": [
    "d_mol = ase.io.read('./data/D-alanine.mol')\n",
    "l_mol = ase.io.read('./data/L-alanine.mol')\n",
    "\n",
    "# Remove hydrogens\n",
    "d_mol = d_mol[d_mol.numbers != 1]\n",
    "l_mol = l_mol[l_mol.numbers != 1]"
   ]
  },
  {
   "cell_type": "markdown",
   "id": "82044ede-60b3-4632-9f9f-41dcae65a4a7",
   "metadata": {},
   "source": [
    "## Convert to PyG graph data\n",
    "\n",
    "In the ALIGNN formulation, the input representation consists of two graphs: an original atomic graph (\"G\") and its angular graph (\"A\"). The cell block below uses helper functions (which have dependency on `ase`) from `graphite` to extract atom type, bond lengths, bond angles, and dihedral angles and store them in a custom PyG `Data` object with the following fields:\n",
    "- `edge_index_G`: atomic graph (\"G\") connectivity\n",
    "- `edge_index_A`: angular graph (\"A\") connectivity\n",
    "- `x_atm`: atom type information (in onehot encoding)\n",
    "- `x_bnd`: bond lengths\n",
    "- `x_ang`: bond angles and optionally dihedral angles (in radians)\n",
    "- `mask_dih_ang`: mask vector indicating which angles are dihedral angles, if any\n",
    "\n",
    "To omit dihedral angles (i.e., the original ALIGNN formulation), skip the dihedral angle calculation and set `mask_dih_ang` to `None`."
   ]
  },
  {
   "cell_type": "code",
   "execution_count": 3,
   "id": "3d5cbf48-90ae-42f9-9f5f-48ddce6f8822",
   "metadata": {},
   "outputs": [],
   "source": [
    "from ase.neighborlist import neighbor_list\n",
    "from sklearn.preprocessing import OneHotEncoder\n",
    "from graphite.utils.alignn import line_graph, dihedral_graph, get_bnd_angs, get_dih_angs\n",
    "from graphite.data import AngularGraphPairData\n",
    "\n",
    "# OVITO's default element-specific cutoffs for creating molecular bonds\n",
    "ovito_cutoff = {\n",
    "    ('H', 'C'): 1.74, ('H', 'N'): 1.65,  ('H', 'O'): 1.632,\n",
    "    ('C', 'C'): 2.04, ('C', 'N'): 1.95,  ('C', 'O'): 1.932,\n",
    "    ('N', 'N'): 1.86, ('N', 'O'): 1.842, ('O', 'O'): 1.824,\n",
    "}\n",
    "\n",
    "def get_molecular_graph(atoms):\n",
    "    \"\"\"Returns edge indices of strong chemical bonds according to a pre-defined\n",
    "    element-specific cutoff criteria.  \n",
    "    \"\"\"\n",
    "    dummy_cell = np.diag([30, 30, 30])\n",
    "    dummy_pbc  = np.array([False]*3)\n",
    "    i, j, d = neighbor_list('ijd', atoms, cutoff=ovito_cutoff)\n",
    "    return np.stack((i, j)), d\n",
    "\n",
    "def atoms2pygdata(atoms):\n",
    "    \"\"\"Converts ASE `atoms` into a PyG graph data holding the molecular graph (G) and the angular graph (A).\n",
    "    The angular graph holds both bond and dihedral angles.\n",
    "    \"\"\"\n",
    "    edge_index_G, x_bnd = get_molecular_graph(atoms)\n",
    "    edge_index_bnd_ang = line_graph(edge_index_G)\n",
    "    edge_index_dih_ang = dihedral_graph(edge_index_G)\n",
    "    edge_index_A = np.hstack([edge_index_bnd_ang, edge_index_dih_ang])\n",
    "    x_atm = OneHotEncoder(sparse_output=False).fit_transform(atoms.numbers.reshape(-1,1))\n",
    "    x_bnd_ang = get_bnd_angs(atoms, edge_index_G, edge_index_bnd_ang)\n",
    "    x_dih_ang = get_dih_angs(atoms, edge_index_G, edge_index_dih_ang)\n",
    "    x_ang = np.concatenate([x_bnd_ang, x_dih_ang])\n",
    "    mask_dih_ang = [False]*len(x_bnd_ang) + [True]*len(x_dih_ang)\n",
    "    \n",
    "    data = AngularGraphPairData(\n",
    "        edge_index_G = torch.tensor(edge_index_G, dtype=torch.long),\n",
    "        edge_index_A = torch.tensor(edge_index_A, dtype=torch.long),\n",
    "        x_atm        = torch.tensor(x_atm,        dtype=torch.float),\n",
    "        x_bnd        = torch.tensor(x_bnd,        dtype=torch.float),\n",
    "        x_ang        = torch.tensor(x_ang,        dtype=torch.float),\n",
    "        mask_dih_ang = torch.tensor(mask_dih_ang, dtype=torch.bool),\n",
    "    )\n",
    "    return data"
   ]
  },
  {
   "cell_type": "markdown",
   "id": "d6c764f5-5323-4e7c-a2d2-bec713b52011",
   "metadata": {},
   "source": [
    "Using toy data, L-alanine and D-alanine, as examples, we can see that while all the bond angles are the same between the L- and D- counterparts, some of the dihedral angles are clearly different. Many conventional graph neural networks cannot capture such chiral distinctions.\n",
    "\n",
    "By the way, the angles are double-counted because the atomic graph (and its angular graph) is bidirectional under the GNN/message-passing formulation."
   ]
  },
  {
   "cell_type": "code",
   "execution_count": 4,
   "id": "81c37532-f2dc-4fea-ae8c-536224f5fef2",
   "metadata": {},
   "outputs": [
    {
     "data": {
      "text/html": [
       "<div>\n",
       "<style scoped>\n",
       "    .dataframe tbody tr th:only-of-type {\n",
       "        vertical-align: middle;\n",
       "    }\n",
       "\n",
       "    .dataframe tbody tr th {\n",
       "        vertical-align: top;\n",
       "    }\n",
       "\n",
       "    .dataframe thead th {\n",
       "        text-align: right;\n",
       "    }\n",
       "</style>\n",
       "<table border=\"1\" class=\"dataframe\">\n",
       "  <thead>\n",
       "    <tr style=\"text-align: right;\">\n",
       "      <th></th>\n",
       "      <th>Is a dihedral angle</th>\n",
       "      <th>l-mol angles</th>\n",
       "      <th>d-mol angles</th>\n",
       "    </tr>\n",
       "  </thead>\n",
       "  <tbody>\n",
       "    <tr>\n",
       "      <th>0</th>\n",
       "      <td>False</td>\n",
       "      <td>109.7</td>\n",
       "      <td>109.7</td>\n",
       "    </tr>\n",
       "    <tr>\n",
       "      <th>1</th>\n",
       "      <td>False</td>\n",
       "      <td>108.1</td>\n",
       "      <td>108.1</td>\n",
       "    </tr>\n",
       "    <tr>\n",
       "      <th>2</th>\n",
       "      <td>False</td>\n",
       "      <td>109.7</td>\n",
       "      <td>109.7</td>\n",
       "    </tr>\n",
       "    <tr>\n",
       "      <th>3</th>\n",
       "      <td>False</td>\n",
       "      <td>110.8</td>\n",
       "      <td>110.8</td>\n",
       "    </tr>\n",
       "    <tr>\n",
       "      <th>4</th>\n",
       "      <td>False</td>\n",
       "      <td>108.1</td>\n",
       "      <td>108.1</td>\n",
       "    </tr>\n",
       "    <tr>\n",
       "      <th>5</th>\n",
       "      <td>False</td>\n",
       "      <td>110.8</td>\n",
       "      <td>110.8</td>\n",
       "    </tr>\n",
       "    <tr>\n",
       "      <th>6</th>\n",
       "      <td>False</td>\n",
       "      <td>123.2</td>\n",
       "      <td>123.2</td>\n",
       "    </tr>\n",
       "    <tr>\n",
       "      <th>7</th>\n",
       "      <td>False</td>\n",
       "      <td>110.4</td>\n",
       "      <td>110.4</td>\n",
       "    </tr>\n",
       "    <tr>\n",
       "      <th>8</th>\n",
       "      <td>False</td>\n",
       "      <td>123.2</td>\n",
       "      <td>123.2</td>\n",
       "    </tr>\n",
       "    <tr>\n",
       "      <th>9</th>\n",
       "      <td>False</td>\n",
       "      <td>126.4</td>\n",
       "      <td>126.4</td>\n",
       "    </tr>\n",
       "    <tr>\n",
       "      <th>10</th>\n",
       "      <td>False</td>\n",
       "      <td>110.4</td>\n",
       "      <td>110.4</td>\n",
       "    </tr>\n",
       "    <tr>\n",
       "      <th>11</th>\n",
       "      <td>False</td>\n",
       "      <td>126.4</td>\n",
       "      <td>126.4</td>\n",
       "    </tr>\n",
       "    <tr>\n",
       "      <th>12</th>\n",
       "      <td>True</td>\n",
       "      <td>177.3</td>\n",
       "      <td>181.5</td>\n",
       "    </tr>\n",
       "    <tr>\n",
       "      <th>13</th>\n",
       "      <td>True</td>\n",
       "      <td>357.9</td>\n",
       "      <td>2.1</td>\n",
       "    </tr>\n",
       "    <tr>\n",
       "      <th>14</th>\n",
       "      <td>True</td>\n",
       "      <td>297.5</td>\n",
       "      <td>61.3</td>\n",
       "    </tr>\n",
       "    <tr>\n",
       "      <th>15</th>\n",
       "      <td>True</td>\n",
       "      <td>118.1</td>\n",
       "      <td>241.9</td>\n",
       "    </tr>\n",
       "    <tr>\n",
       "      <th>16</th>\n",
       "      <td>True</td>\n",
       "      <td>177.3</td>\n",
       "      <td>181.5</td>\n",
       "    </tr>\n",
       "    <tr>\n",
       "      <th>17</th>\n",
       "      <td>True</td>\n",
       "      <td>297.5</td>\n",
       "      <td>61.3</td>\n",
       "    </tr>\n",
       "    <tr>\n",
       "      <th>18</th>\n",
       "      <td>True</td>\n",
       "      <td>357.9</td>\n",
       "      <td>2.1</td>\n",
       "    </tr>\n",
       "    <tr>\n",
       "      <th>19</th>\n",
       "      <td>True</td>\n",
       "      <td>118.1</td>\n",
       "      <td>241.9</td>\n",
       "    </tr>\n",
       "  </tbody>\n",
       "</table>\n",
       "</div>"
      ],
      "text/plain": [
       "    Is a dihedral angle  l-mol angles  d-mol angles\n",
       "0                 False         109.7         109.7\n",
       "1                 False         108.1         108.1\n",
       "2                 False         109.7         109.7\n",
       "3                 False         110.8         110.8\n",
       "4                 False         108.1         108.1\n",
       "5                 False         110.8         110.8\n",
       "6                 False         123.2         123.2\n",
       "7                 False         110.4         110.4\n",
       "8                 False         123.2         123.2\n",
       "9                 False         126.4         126.4\n",
       "10                False         110.4         110.4\n",
       "11                False         126.4         126.4\n",
       "12                 True         177.3         181.5\n",
       "13                 True         357.9           2.1\n",
       "14                 True         297.5          61.3\n",
       "15                 True         118.1         241.9\n",
       "16                 True         177.3         181.5\n",
       "17                 True         297.5          61.3\n",
       "18                 True         357.9           2.1\n",
       "19                 True         118.1         241.9"
      ]
     },
     "execution_count": 4,
     "metadata": {},
     "output_type": "execute_result"
    }
   ],
   "source": [
    "import pandas as pd\n",
    "\n",
    "l_mol_data = atoms2pygdata(l_mol)\n",
    "d_mol_data = atoms2pygdata(d_mol)\n",
    "\n",
    "angles = pd.DataFrame(\n",
    "    {\n",
    "        'Is a dihedral angle': l_mol_data.mask_dih_ang.numpy(),\n",
    "        'l-mol angles': l_mol_data.x_ang.rad2deg(),\n",
    "        'd-mol angles': d_mol_data.x_ang.rad2deg(),\n",
    "    }\n",
    ")\n",
    "pd.set_option(\"display.precision\", 1)\n",
    "angles"
   ]
  },
  {
   "cell_type": "markdown",
   "id": "77ffa85b-b3f9-48cb-ae57-ecfcd77a58fb",
   "metadata": {},
   "source": [
    "## Define model architecture\n",
    "\n",
    "Following DeepMind's nomenclature in the MeshGraphNets formulation, a graph (message-passing) neural network can be described as three components:\n",
    "- Encoder\n",
    "    - Initial encoding/embedding that transforms graph-based data into whatever format neccessary for graph convolutions or message-passing.\n",
    "    - Often customized depending on the user's data format. For example, the original ALIGNN work also encodes bond types (e.g., single-bond, double-bond, triple-bond, etc.) but such information is not encoded in this example.\n",
    "- Processor\n",
    "    - Graph convolutions or message-passing layers. Refer to the ALIGNN paper for how it is implemented.\n",
    "    - Normally does not need to be customized.\n",
    "- Decoder\n",
    "    - Final operation that transforms latent node/edge features into an appropriate output format.\n",
    "    - Often customized by the user for a specific output format. For example, local nodal output vs. global pooled output."
   ]
  },
  {
   "cell_type": "code",
   "execution_count": 5,
   "id": "2dd3dd8f-f24c-401f-8b42-6eb97c7fafca",
   "metadata": {},
   "outputs": [],
   "source": [
    "from graphite.nn.models.alignn import Encoder, Processor, Decoder, ALIGNN\n",
    "\n",
    "# In case it has not been made clear, this ALIGNN implementaition can encode dihedral angles\n",
    "gnn = ALIGNN(\n",
    "    encoder   = Encoder(num_species=3, cutoff=2.0, dim=128, dihedral=True),\n",
    "    processor = Processor(num_convs=5, dim=128),\n",
    "    decoder   = Decoder(node_dim=128, out_dim=2),\n",
    ")"
   ]
  },
  {
   "cell_type": "markdown",
   "id": "7a24c3aa-fbb7-4e26-9766-cade06363964",
   "metadata": {},
   "source": [
    "## Model forward pass\n",
    "\n",
    "For now I'm only demonstrating a successful forward pass. Model training is currently omitted."
   ]
  },
  {
   "cell_type": "code",
   "execution_count": 6,
   "id": "2c2638ec-76bb-4b3c-98df-782da95269f7",
   "metadata": {},
   "outputs": [
    {
     "data": {
      "text/plain": [
       "tensor([[ 0.0763, -0.5241],\n",
       "        [ 0.1177, -0.5566],\n",
       "        [ 0.1198, -0.1756],\n",
       "        [ 0.2058, -0.5263],\n",
       "        [ 0.1611, -0.5593],\n",
       "        [ 0.1975, -0.4893]], grad_fn=<AddmmBackward0>)"
      ]
     },
     "execution_count": 6,
     "metadata": {},
     "output_type": "execute_result"
    }
   ],
   "source": [
    "gnn(l_mol_data.clone())"
   ]
  },
  {
   "cell_type": "markdown",
   "id": "3e2a1eb5-0404-4a96-9dbc-24af23b0452d",
   "metadata": {},
   "source": [
    "## Interpretation analysis\n",
    "\n",
    "Compared to other models, ALIGNN is well suited for interpretation analysis, as the atoms, bonds, bond angles, and optionally dihedral angles are all explicitly represented as graph components. Therefore, for a given prediction, one can examine the attribution/sensitivity of each atom/bond/angle component.\n",
    "\n",
    "Here I provide two ways to approach ALIGNN interpretation:\n",
    "- gradient analysis\n",
    "- summation of positive scalars"
   ]
  },
  {
   "cell_type": "markdown",
   "id": "3094e02d-a700-4d57-8bac-ca4966601e8a",
   "metadata": {},
   "source": [
    "### Gradient analysis\n",
    "\n",
    "This is a rather common and simple approach for interpreting a neural network. For a given (high-dimensional) input $\\mathbf{x}$ and its corresponding (scalar) output $y$, we can compute the gradient $\\frac{\\delta y}{\\delta \\mathbf{x}}$, which tells us the attribution/sensitivity of the individual elements in $\\mathbf{x}$ to the output $y$.\n",
    "\n",
    "Let's first write a custom Decoder that pools the latent features of all components into a global scalar quantity."
   ]
  },
  {
   "cell_type": "code",
   "execution_count": 7,
   "id": "584754f9-fd34-4e9b-8df8-e44f6209d775",
   "metadata": {},
   "outputs": [],
   "source": [
    "from torch import nn\n",
    "from torch_geometric.utils import scatter\n",
    "from graphite.nn import MLP\n",
    "\n",
    "class GlobalScalarDecoder(nn.Module):\n",
    "    def __init__(self, dim):\n",
    "        super().__init__()\n",
    "        self.dim = dim\n",
    "        self.decoder = MLP([dim, dim, 1], act=nn.SiLU())\n",
    "\n",
    "    def forward(self, data):\n",
    "        # Globally pool all atom/bond/angle components into a single feature vector\n",
    "        # This operation assumes all components have the same dimensionality, \n",
    "        # which should be the case for ALIGNN.\n",
    "        if data.batch is not None:\n",
    "            h_atm_pooled = scatter(data.h_atm, data.x_atm_batch, dim=0, reduce='mean')\n",
    "            h_bnd_pooled = scatter(data.h_bnd, data.x_bnd_batch, dim=0, reduce='mean')\n",
    "            h_ang_pooled = scatter(data.h_ang, data.x_ang_batch, dim=0, reduce='mean')\n",
    "            h_pooled = (h_atm_pooled + h_bnd_pooled + h_ang_pooled) / 3\n",
    "        else:\n",
    "            h_pooled = (data.h_atm.mean(dim=0) + data.h_bnd.mean(dim=0) + data.h_ang.mean(dim=0)) / 3\n",
    "        return self.decoder(h_pooled)"
   ]
  },
  {
   "cell_type": "markdown",
   "id": "0bfcfac8-9267-4fdf-9f9e-bf0d1fdbf03e",
   "metadata": {},
   "source": [
    "How the pooling is performed, e.g, via summing or averaging, can be important. If the global property is instrinsic, i.e., does not depend on system size, then averaging is preferred over summing.\n",
    "\n",
    "On a side note, when batching multiple molecular graphs into a single `data` object, remember to keep track of how `x_atm`, `x_bnd`, and `x_ang` are batched via the use of the `follow_batch` argument. Here is an example:\n",
    "```python\n",
    "from torch_geometric.loader import DataLoader\n",
    "\n",
    "loader = DataLoader([l_mol_data, d_mol_data], batch_size=2, follow_batch=['x_atm', 'x_bnd', 'x_ang'])\n",
    "batch = next(iter(loader))\n",
    "output = gnn(batch)\n",
    "```\n",
    "\n",
    "The code below shows that indeed a scalar output is given for a molecular graph input."
   ]
  },
  {
   "cell_type": "code",
   "execution_count": 8,
   "id": "833f6ece-68eb-45fd-bd61-b8de28e0a888",
   "metadata": {},
   "outputs": [
    {
     "data": {
      "text/plain": [
       "tensor([0.1488], grad_fn=<AddBackward0>)"
      ]
     },
     "execution_count": 8,
     "metadata": {},
     "output_type": "execute_result"
    }
   ],
   "source": [
    "gnn = ALIGNN(\n",
    "    encoder   = Encoder(num_species=3, cutoff=2.0, dim=128, dihedral=True),\n",
    "    processor = Processor(num_convs=5, dim=128),\n",
    "    decoder   = GlobalScalarDecoder(dim=128),\n",
    ")\n",
    "\n",
    "gnn(l_mol_data.clone())"
   ]
  },
  {
   "cell_type": "markdown",
   "id": "a3aca834-400e-4d36-b33f-94a5c999ae1d",
   "metadata": {},
   "source": [
    "We will now adjust the code above to compute the gradient. However, note that computing the gradient  $\\frac{\\delta y}{\\delta \\mathbf{x}}$ requires $\\mathbf{x}$ to be a continuous, smooth variable. Unfortunately, the atom type is a discrete variable, so we cannot take gradient w.r.t. atom types (technically, we could, but the value probably would not make sense)."
   ]
  },
  {
   "cell_type": "code",
   "execution_count": 9,
   "id": "c0c7ccb1-9dc3-4982-bf58-1546b353795e",
   "metadata": {},
   "outputs": [
    {
     "name": "stdout",
     "output_type": "stream",
     "text": [
      "tensor([-2.7492, -1.4686,  1.1981,  0.5603,  0.8107, -1.5836, -0.4429, -1.4223,\n",
      "        -1.0649,  0.0207])\n",
      "tensor([-0.0051,  0.0103, -0.0018, -0.0194,  0.0123, -0.0130,  0.0116, -0.0220,\n",
      "         0.0089,  0.0052, -0.0142, -0.0014, -0.0091, -0.0041, -0.0063,  0.0134,\n",
      "        -0.0106, -0.0112, -0.0043,  0.0106])\n"
     ]
    }
   ],
   "source": [
    "l_mol_data.x_bnd.requires_grad_(True)\n",
    "l_mol_data.x_ang.requires_grad_(True)\n",
    "\n",
    "y = gnn(l_mol_data)\n",
    "grad_bnd, grad_ang = torch.autograd.grad(y, [l_mol_data.x_bnd, l_mol_data.x_ang])\n",
    "print(grad_bnd)\n",
    "print(grad_ang)"
   ]
  },
  {
   "cell_type": "markdown",
   "id": "47e58a90-05b9-4955-b0a0-64e42356ecbd",
   "metadata": {},
   "source": [
    "### Summation of positive scalars\n",
    "\n",
    "In the case that the scalar output is stricly positive, then one may choose to transform all components to hold positive scalars, and then sum into a single scalar. This way, the individual scalars at the atom/bond/angle components may be interpreted as contributions towards the global output.\n",
    "\n",
    "Here is the corresponding custom Decoder."
   ]
  },
  {
   "cell_type": "code",
   "execution_count": 10,
   "id": "5971bae8-ce38-4851-8880-223101c6712b",
   "metadata": {},
   "outputs": [],
   "source": [
    "from torch import nn\n",
    "from torch_geometric.utils import scatter\n",
    "from graphite.nn import MLP\n",
    "\n",
    "class PositiveScalarsDecoder(nn.Module):\n",
    "    def __init__(self, dim):\n",
    "        super().__init__()\n",
    "        self.dim = dim\n",
    "        self.transform_atm = nn.Sequential(MLP([dim, dim, 1], act=nn.SiLU()), nn.Softplus())\n",
    "        self.transform_bnd = nn.Sequential(MLP([dim, dim, 1], act=nn.SiLU()), nn.Softplus())\n",
    "        self.transform_ang = nn.Sequential(MLP([dim, dim, 1], act=nn.SiLU()), nn.Softplus())\n",
    "\n",
    "    # Here I assume `data` is not batched.\n",
    "    def forward(self, data):\n",
    "        atm_scalars = self.transform_atm(data.h_atm)\n",
    "        bnd_scalars = self.transform_bnd(data.h_bnd)\n",
    "        ang_scalars = self.transform_bnd(data.h_ang)\n",
    "        return (atm_scalars, bnd_scalars, ang_scalars)"
   ]
  },
  {
   "cell_type": "markdown",
   "id": "3f7c7fe3-9cd6-4b62-b1f3-717f30ca4b67",
   "metadata": {},
   "source": [
    "The code below shows that the outputs are all positive scalars for all of the atoms, bonds and angles."
   ]
  },
  {
   "cell_type": "code",
   "execution_count": 11,
   "id": "07b8fca2-1c7e-43a4-b653-d044b8d091c9",
   "metadata": {},
   "outputs": [
    {
     "name": "stdout",
     "output_type": "stream",
     "text": [
      "Atom contributions: [0.03531275 0.03565916 0.04030304 0.04167474 0.04070251 0.04852942]\n",
      "Bond contributions: [0.01483122 0.0227829  0.02120063 0.02652237 0.02513684 0.02170847\n",
      " 0.01821407 0.01830938 0.01992665 0.02906147]\n",
      "Angle contributions: [0.02791974 0.02652906 0.03170545 0.02749158 0.0262801  0.02846178\n",
      " 0.02629579 0.02518644 0.0223171  0.0212482  0.02919177 0.02883629\n",
      " 0.02651746 0.02648005 0.03208928 0.02945284 0.02850085 0.02932335\n",
      " 0.02183014 0.02446718]\n"
     ]
    }
   ],
   "source": [
    "gnn = ALIGNN(\n",
    "    encoder   = Encoder(num_species=3, cutoff=2.0, dim=128, dihedral=True),\n",
    "    processor = Processor(num_convs=5, dim=128),\n",
    "    decoder   = PositiveScalarsDecoder(dim=128),\n",
    ")\n",
    "\n",
    "with torch.no_grad():\n",
    "    atom_contrib, bond_contrib, angle_contrib = gnn(l_mol_data.clone())\n",
    "\n",
    "all_sum = atom_contrib.sum() + bond_contrib.sum() + angle_contrib.sum()\n",
    "\n",
    "atom_contrib = (atom_contrib / all_sum).flatten().numpy()\n",
    "bond_contrib = (bond_contrib / all_sum).flatten().numpy()\n",
    "angle_contrib = (angle_contrib / all_sum).flatten().numpy()\n",
    "\n",
    "print('Atom contributions:', atom_contrib)\n",
    "print('Bond contributions:', bond_contrib)\n",
    "print('Angle contributions:', angle_contrib)"
   ]
  },
  {
   "cell_type": "markdown",
   "id": "d35128eb-1eb3-44ca-9063-a4a0b1a68ed4",
   "metadata": {},
   "source": [
    "## Visualizing atom, bond, and angle attributions\n",
    "\n",
    "Since the atoms, bonds, and angles are all explicitly represented as graph components, results from the interpretation analysis can be visualized in the graph format.\n",
    "\n",
    "For the visualization in this demo I am using `networkx`. It is probably already installed as a dependency. If not then refer to its installation guide."
   ]
  },
  {
   "cell_type": "code",
   "execution_count": 21,
   "id": "db558880-f038-442b-91fd-a524b317ab6b",
   "metadata": {},
   "outputs": [],
   "source": [
    "import networkx as nx\n",
    "\n",
    "edge_index_G = l_mol_data.edge_index_G.numpy()\n",
    "edge_index_A = l_mol_data.edge_index_A.numpy()"
   ]
  },
  {
   "cell_type": "markdown",
   "id": "f28d0a67-aba7-4fc1-b335-b9bd18d67a73",
   "metadata": {},
   "source": [
    "### Original atomic graph (G)\n",
    "\n",
    "Using `networkx`, you can color the atoms and bonds in the original atomic graph G based on their relative contributions/attributions."
   ]
  },
  {
   "cell_type": "code",
   "execution_count": 47,
   "id": "90bd449c-2cd7-4224-8b79-3d722bd8a103",
   "metadata": {},
   "outputs": [
    {
     "data": {
      "image/png": "[encoded data removed]",
      "text/plain": [
       "<Figure size 640x480 with 1 Axes>"
      ]
     },
     "metadata": {},
     "output_type": "display_data"
    }
   ],
   "source": [
    "# Instantiate networkx graph of the original atomic graph G\n",
    "G = nx.DiGraph(list(edge_index_G.T))\n",
    "\n",
    "# Node labels\n",
    "numbers = l_mol.numbers\n",
    "number2symbol = {1: 'H', 6: 'C', 7: 'N', 8: 'O'}\n",
    "G_labels = {n: number2symbol[numbers[n]] for n in G.nodes}\n",
    "\n",
    "# Node positions. You can ask networkx to automatically determine the node positions\n",
    "# For proper-looking molecular graphs, you might want to also consider using rdkit\n",
    "G_pos = nx.spring_layout(G)\n",
    "\n",
    "# Drawing options\n",
    "G_options = {\n",
    "    # node settings\n",
    "    'labels'     : G_labels,\n",
    "    'nodelist'   : range(len(atom_contrib)),\n",
    "    'node_color' : atom_contrib,\n",
    "    'cmap'       : plt.cm.Blues,\n",
    "    'edgecolors' : 'black',\n",
    "    'vmin'       : atom_contrib.min()-0.01,\n",
    "    'vmax'       : atom_contrib.max()+0.01,\n",
    "    \n",
    "    # edge settings\n",
    "    'edgelist'   : list(edge_index_G.T), \n",
    "    'edge_color' : bond_contrib,\n",
    "    'edge_cmap'  : plt.cm.Blues,\n",
    "    'width'      : 4,\n",
    "    'edge_vmin'  : atom_contrib.min()-0.01,\n",
    "    'edge_vmax'  : bond_contrib.max()+0.01,\n",
    "\n",
    "    # misc. settings\n",
    "    'font_size'  : 16,\n",
    "    'node_size'  : 1000,\n",
    "}\n",
    "\n",
    "nx.draw_networkx(G, G_pos, **G_options)"
   ]
  },
  {
   "cell_type": "markdown",
   "id": "02f02e02-bdf2-4999-a148-fb8cdb67cc39",
   "metadata": {},
   "source": [
    "### Angular graph (A)\n",
    "\n",
    "We can add the angular graph (A) on top of G. Note that for visualization we only need to draw the edges (angles) of A, because the nodes (bonds) of A simply correspond to the edges of G.\n",
    "\n",
    "Similar to the method for visualizing G, you can color the angles based on their relative contributions."
   ]
  },
  {
   "cell_type": "code",
   "execution_count": 48,
   "id": "5eafb859-8573-4ccb-8ef1-281fba3eb0c3",
   "metadata": {},
   "outputs": [
    {
     "data": {
      "image/png": "[encoded data removed]",
      "text/plain": [
       "<Figure size 640x480 with 1 Axes>"
      ]
     },
     "metadata": {},
     "output_type": "display_data"
    }
   ],
   "source": [
    "# Instantiate networkx graph of the angular graph A\n",
    "A = nx.DiGraph(list(edge_index_A.T))\n",
    "\n",
    "# Node positions. Each node in A lies in the middle of its corresponding edge in G\n",
    "midpoint = lambda x1, x2: (x1+x2)/2\n",
    "A_pos = {}\n",
    "for e in A.nodes():\n",
    "    i, j = edge_index_G.T[e]\n",
    "    A_pos[e] = midpoint(G_pos[i], G_pos[j])\n",
    "\n",
    "# Drawing options\n",
    "A_options = {\n",
    "    # edge settings\n",
    "    'edgelist'   : list(edge_index_A.T), \n",
    "    'edge_color' : angle_contrib,\n",
    "    'edge_cmap'  : plt.cm.Reds,\n",
    "    'width'      : 4,\n",
    "    'edge_vmin'  : angle_contrib.min()-0.01,\n",
    "    'edge_vmax'  : angle_contrib.max()+0.01,\n",
    "}\n",
    "\n",
    "nx.draw_networkx(G, G_pos, **G_options)\n",
    "nx.draw_networkx_edges(A, A_pos, **A_options)\n",
    "plt.draw()"
   ]
  },
  {
   "cell_type": "code",
   "execution_count": null,
   "id": "a734a50c-61d8-4460-bae7-493fdf573107",
   "metadata": {},
   "outputs": [],
   "source": [
    "\n",
    "\n",
    "\n",
    "\n",
    "\n",
    "\n",
    "\n",
    "\n",
    "\n",
    "\n",
    "\n",
    "\n",
    "\n",
    "\n",
    "\n",
    "\n",
    "\n",
    "\n",
    "\n",
    "\n",
    "\n",
    "\n",
    "\n",
    "\n",
    "\n",
    "\n",
    "\n",
    "\n",
    "\n"
   ]
  }
 ],
 "metadata": {
  "kernelspec": {
   "display_name": "Python 3 (ipykernel)",
   "language": "python",
   "name": "python3"
  },
  "language_info": {
   "codemirror_mode": {
    "name": "ipython",
    "version": 3
   },
   "file_extension": ".py",
   "mimetype": "text/x-python",
   "name": "python",
   "nbconvert_exporter": "python",
   "pygments_lexer": "ipython3",
   "version": "3.10.11"
  }
 },
 "nbformat": 4,
 "nbformat_minor": 5
}
