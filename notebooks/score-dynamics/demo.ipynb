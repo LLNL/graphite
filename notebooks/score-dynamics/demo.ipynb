{
 "cells": [
  {
   "attachments": {},
   "cell_type": "markdown",
   "id": "ced8d9ba-462f-4f00-8f47-f0afc48dd20b",
   "metadata": {},
   "source": [
    "# Score dynamics\n",
    "\n",
    "This notebook will guide you through (conditional) diffusion model training and inference for iteratively generating future molecular configurations based on an initial condition."
   ]
  },
  {
   "cell_type": "code",
   "execution_count": 1,
   "id": "327ac2a4",
   "metadata": {},
   "outputs": [],
   "source": [
    "import torch\n",
    "import numpy as np"
   ]
  },
  {
   "attachments": {},
   "cell_type": "markdown",
   "id": "86a6fd4b-c534-4aa3-9cab-1dba684aebad",
   "metadata": {},
   "source": [
    "## Data storage format\n",
    "\n",
    "Each molecular trajecory data is stored as an HDF5 file with at least the `pos` *dataset* array of shape [T, N, 3], where T is the number of timesteps, and N is the number of particles. Additionally, the `pos` dataset has the following attributes:\n",
    "- `symbols`: atomic symbols\n",
    "- `numbers`: atomic numbers\n",
    "- `timestep`: timestep size (in picosecond) of the MD trajectory\n",
    "\n",
    "For example, you can retrieve the above information using the following code block.\n",
    "\n",
    "A toy-size version of the alanine dipeptide trajectory is stored in this repo. Remember to install `h5py` with `pip install h5py`."
   ]
  },
  {
   "cell_type": "code",
   "execution_count": 2,
   "id": "94de02bb-2453-4556-9c0d-29d52c7c06e9",
   "metadata": {},
   "outputs": [
    {
     "name": "stdout",
     "output_type": "stream",
     "text": [
      "(1000, 22, 3)\n",
      "<KeysViewHDF5 ['numbers', 'symbols', 'timestep']>\n",
      "['CH' 'HH' 'HH' 'HH' 'C' 'O' 'N' 'H' 'CA' 'HA' 'CB' 'HB' 'HB' 'HB' 'C' 'O'\n",
      " 'N' 'H' 'CH' 'HH' 'HH' 'HH']\n",
      "[6 1 1 1 6 8 7 1 6 1 6 1 1 1 6 8 7 1 6 1 1 1]\n",
      "10.0\n"
     ]
    }
   ],
   "source": [
    "import h5py\n",
    "\n",
    "f = h5py.File('./data/ala-dipep-minidataset.hdf5')\n",
    "pos = f['pos']\n",
    "print(pos.shape)\n",
    "print(pos.attrs.keys())\n",
    "print(pos.attrs['symbols'])\n",
    "print(pos.attrs['numbers'])\n",
    "print(pos.attrs['timestep'])"
   ]
  },
  {
   "cell_type": "markdown",
   "id": "7d57fe50-85eb-4ea9-a66e-76f4cc56ea92",
   "metadata": {},
   "source": [
    "## Training"
   ]
  },
  {
   "cell_type": "markdown",
   "id": "f3f2659b-dcf1-4f2f-8153-fb61afdc1eba",
   "metadata": {},
   "source": [
    "### Create lightning datamodule and module instances\n",
    "\n",
    "A lot of details are hidden away for your convenience using PyTorch Lightning. They include:\n",
    "- How the data is loaded, processed, batched, and so on.\n",
    "- Model definition.\n",
    "- How the model is trained, which optimizer, etc.\n",
    "\n",
    "These implementations can be found at `./lit/` if you are interested."
   ]
  },
  {
   "cell_type": "code",
   "execution_count": 3,
   "id": "cbf2eefd-3942-461c-9638-8b7aa723f6f3",
   "metadata": {},
   "outputs": [
    {
     "name": "stderr",
     "output_type": "stream",
     "text": [
      "Lightning automatically upgraded your loaded checkpoint from v1.6.5 to v2.2.4. To apply the upgrade to your files permanently, run `python -m lightning.pytorch.utilities.upgrade_checkpoint lit_logs/ala-dipep-r4-S2-nvt-rand-tsize-240k/version_2/checkpoints/epoch=3404-step=800000.ckpt`\n"
     ]
    }
   ],
   "source": [
    "from lit.datamodules import MolTrajDataModule\n",
    "from lit.modules import LitNoiseNet\n",
    "\n",
    "from glob import glob\n",
    "\n",
    "file_list = ['./data/ala-dipep-minidataset.hdf5']\n",
    "\n",
    "# Datamodule\n",
    "datamodule = MolTrajDataModule(\n",
    "    file_list   = file_list,\n",
    "    interval    = 1,    # number of timesteps for producing displacements, i.e., displacement = pos[n+interval] - pos[n] \n",
    "    scale       = 2.0,  # scaling factor to be multiplied to atomic coordinates (this affects quality of the trained diffusion model)\n",
    "    batch_size  = 128,\n",
    "    num_workers = 4,\n",
    ")\n",
    "\n",
    "# New model instance\n",
    "# noise_net = LitNoiseNet(\n",
    "#     num_species = 10,\n",
    "#     num_convs   = 5,\n",
    "#     dim         = 200,\n",
    "#     out_dim     = 3,\n",
    "#     cutoff      = 4.0 * 2.0,  # cutoff radius multiplied by scaling factor\n",
    "#     ema_decay   = 0.9999,\n",
    "#     learn_rate  = 1e-4,\n",
    "# )\n",
    "\n",
    "# Load model weights from a saved checkpoint\n",
    "noise_net = LitNoiseNet.load_from_checkpoint(\n",
    "    './lit_logs/ala-dipep-r4-S2-nvt-rand-tsize-240k/version_2/checkpoints/epoch=3404-step=800000.ckpt'\n",
    ")"
   ]
  },
  {
   "cell_type": "markdown",
   "id": "f6b02b2d-a05d-410b-8d43-6331cea865ad",
   "metadata": {
    "jp-MarkdownHeadingCollapsed": true
   },
   "source": [
    "### Start training session\n",
    "\n",
    "Skip this section if you loaded a pre-trained model ready for inference."
   ]
  },
  {
   "cell_type": "code",
   "execution_count": null,
   "id": "a5eef88b-8727-45f3-ba0f-381fd3e0c323",
   "metadata": {},
   "outputs": [],
   "source": [
    "import lightning as L\n",
    "from lightning.pytorch.callbacks import TQDMProgressBar\n",
    "from lightning.pytorch.loggers import TensorBoardLogger\n",
    "\n",
    "trainer = L.Trainer(\n",
    "    max_steps = 600_000,\n",
    "    logger    = TensorBoardLogger(save_dir='./lit_logs/', name='ala-dipep-test'),\n",
    "    callbacks = [TQDMProgressBar(refresh_rate=10)],\n",
    ")\n",
    "\n",
    "trainer.fit(\n",
    "    noise_net, datamodule,\n",
    "    # ckpt_path = './lit_logs/...',  # specify this if you are resuming from a previous training session\n",
    ")"
   ]
  },
  {
   "attachments": {},
   "cell_type": "markdown",
   "id": "da0fe9e0-e27c-4522-ba04-670c62af9885",
   "metadata": {},
   "source": [
    "## Roll-out from a given initial configuration"
   ]
  },
  {
   "attachments": {},
   "cell_type": "markdown",
   "id": "f77574a2-de55-4b7b-9ed0-4861d0e9f4a2",
   "metadata": {},
   "source": [
    "### Helper functions"
   ]
  },
  {
   "cell_type": "code",
   "execution_count": 4,
   "id": "4152dbf8-52b8-46c1-b47b-df3cd7271401",
   "metadata": {},
   "outputs": [],
   "source": [
    "from ase.neighborlist import primitive_neighbor_list\n",
    "\n",
    "def ase_radius_graph(pos, cutoff, numbers, cell=np.diag([1., 1., 1.]), pbc=[False, False, False]):\n",
    "    i, j = primitive_neighbor_list('ij', positions=pos, cell=cell, cutoff=cutoff, pbc=pbc, numbers=numbers)\n",
    "    i = torch.tensor(i, dtype=torch.long)\n",
    "    j = torch.tensor(j, dtype=torch.long)\n",
    "    edge_index = torch.stack([i, j])\n",
    "    return edge_index\n",
    "\n",
    "def ala_dipep_chirality(pos):\n",
    "    \"\"\"\n",
    "    Ad-hoc chirality check for alanine dipeptide.\n",
    "    Not applicable to other systems.\n",
    "    \"\"\"\n",
    "    HA_CA = pos[8]  - pos[9]\n",
    "    CA_CB = pos[10] - pos[8]\n",
    "    CA_N  = pos[6]  - pos[8]\n",
    "    return torch.linalg.cross(HA_CA, CA_CB).dot(CA_N)\n",
    "\n",
    "def has_bad_structure(data, scale=1.0):\n",
    "    \"\"\"\n",
    "    This function is ad-hoc for alanine dipeptides and alkanes.\n",
    "    Not applicable to other systems.\n",
    "    \"\"\"\n",
    "    s = scale\n",
    "\n",
    "    # Check C-H bond lengths\n",
    "    # i, j = data.CH_index; bnd_len = (data.pos[j]-data.pos[i]).norm(dim=1)\n",
    "    # if torch.bitwise_or(bnd_len < 1.02*s, bnd_len > 1.16*s).any(): print(f'Step {n}: bad C-H bond length'); return True\n",
    "\n",
    "    # Check C-C bond lengths\n",
    "    # i, j = data.CC_index; bnd_len = (data.pos[j]-data.pos[i]).norm(dim=1)\n",
    "    # if torch.bitwise_or(bnd_len < 1.38*s, bnd_len > 1.70*s).any(): print(f'Step {n}: bad C-C bond length'); return True\n",
    "\n",
    "    # Check X-H bond lengths (X is any atom species)\n",
    "    i, j = data.XH_index; bnd_len = (data.pos[j]-data.pos[i]).norm(dim=1)\n",
    "    if torch.bitwise_or(bnd_len < 0.9*s, bnd_len > 1.16*s).any(): print(f'Step {n}: bad X-H bond length'); return True\n",
    "\n",
    "    # Check CNO bond lengths (any bonds between {C, N, O})\n",
    "    i, j = data.CNO_index; bnd_len = (data.pos[j]-data.pos[i]).norm(dim=1)\n",
    "    if torch.bitwise_or(bnd_len < 1.1*s, bnd_len > 1.70*s).any(): print(f'Step {n}: bad CNO bond length'); return True\n",
    "\n",
    "    # Check chirality of alanine dipeptide\n",
    "    if ala_dipep_chirality(data.pos) < 0.0: print(f'Step {n} flipped chirality'); return True\n",
    "\n",
    "    return False"
   ]
  },
  {
   "attachments": {},
   "cell_type": "markdown",
   "id": "8baf8415-2e15-4a18-95b1-b869beb9e275",
   "metadata": {},
   "source": [
    "### Sample an initial structure"
   ]
  },
  {
   "cell_type": "code",
   "execution_count": 5,
   "id": "9b316259-cb92-4e37-876e-30d01017ba4e",
   "metadata": {},
   "outputs": [],
   "source": [
    "datamodule.setup()\n",
    "data = datamodule.dataset[0]"
   ]
  },
  {
   "cell_type": "markdown",
   "id": "c1d06fa2-1581-47cb-8a58-d58912a4784a",
   "metadata": {},
   "source": [
    "### Keep track of certain bonds (for validation)"
   ]
  },
  {
   "cell_type": "code",
   "execution_count": 6,
   "id": "07830a8d-95d9-4698-8ee6-877131e51d16",
   "metadata": {},
   "outputs": [],
   "source": [
    "SCALE = 2.0\n",
    "numbers = pos.attrs['numbers']\n",
    "\n",
    "data.XH_index  = ase_radius_graph(data.pos.numpy(), cutoff={('H', 'C'): 1.74*SCALE, ('H', 'N'): 1.65*SCALE,  ('H', 'O'): 1.632*SCALE}, numbers=numbers)\n",
    "data.CNO_index = ase_radius_graph(data.pos.numpy(), cutoff={('C', 'C'): 2.04*SCALE, ('C', 'N'): 1.95*SCALE,  ('C', 'O'): 1.932*SCALE}, numbers=numbers)\n",
    "# data.CH_index  = ase_radius_graph(data.pos.numpy(), cutoff={('H', 'C'): 1.74*SCALE}, numbers=numbers)\n",
    "# data.CC_index  = ase_radius_graph(data.pos.numpy(), cutoff={('C', 'C'): 2.04*SCALE}, numbers=numbers)"
   ]
  },
  {
   "cell_type": "markdown",
   "id": "fff16e3d-6856-4dcf-9a14-11d4ed50e683",
   "metadata": {},
   "source": [
    "### Prepare for rollout"
   ]
  },
  {
   "cell_type": "code",
   "execution_count": 7,
   "id": "5edfb52f-b4c0-43a0-b911-ec01232431b0",
   "metadata": {},
   "outputs": [],
   "source": [
    "NUM_STEPS = 1_000\n",
    "rollout_pos = []\n",
    "bad_pos = []\n",
    "n = 0\n",
    "\n",
    "diffuser = noise_net.diffuser\n",
    "molecular_graph = noise_net._molecular_graph\n",
    "data = data.to('cuda')\n",
    "\n",
    "# Torchscript optimization\n",
    "model = torch.jit.script(noise_net.ema_model.module).to('cuda')"
   ]
  },
  {
   "attachments": {},
   "cell_type": "markdown",
   "id": "ca25670f-d32f-4ac8-9f09-ff941f5cdaab",
   "metadata": {},
   "source": [
    "### Rollout!"
   ]
  },
  {
   "cell_type": "code",
   "execution_count": 8,
   "id": "85b03dac-5d8b-4c37-a3c1-d0d987491f8e",
   "metadata": {
    "jp-MarkdownHeadingCollapsed": true,
    "tags": []
   },
   "outputs": [
    {
     "data": {
      "application/vnd.jupyter.widget-view+json": {
       "model_id": "2c37fdde608748219438b039686c9348",
       "version_major": 2,
       "version_minor": 0
      },
      "text/plain": [
       "Rollout:   0%|          | 0/1000 [00:00<?, ?it/s]"
      ]
     },
     "metadata": {},
     "output_type": "display_data"
    }
   ],
   "source": [
    "import functools\n",
    "from tqdm.notebook import tqdm\n",
    "\n",
    "with torch.no_grad():\n",
    "    with tqdm(total=NUM_STEPS, desc='Rollout') as pbar:\n",
    "        pbar.n = n; pbar.refresh()\n",
    "        while n <= NUM_STEPS:\n",
    "            # Update graph data\n",
    "            data = molecular_graph(data, cutoff=4.0*SCALE)\n",
    "\n",
    "            # Catch bad structures\n",
    "            if has_bad_structure(data, scale=SCALE):\n",
    "                bad_pos.append(data.pos.cpu().numpy())\n",
    "                del rollout_pos[-8:]\n",
    "                n -= 8\n",
    "                pbar.n = n; pbar.refresh()\n",
    "                data.pos = rollout_pos[-1].clone()\n",
    "                continue\n",
    "            else:                \n",
    "                rollout_pos.append(data.pos.clone())\n",
    "                n += 1\n",
    "                pbar.update(1)\n",
    "\n",
    "            # Generate displacements\n",
    "            x_T = torch.randn_like(data.pos)\n",
    "            noise_model = functools.partial(model, x_atm=data.z, bnd_index=data.edge_index, x_bnd=data.edge_attr)\n",
    "            xs = diffuser.reverse_denoise(x_T, noise_model, diffuser.solver3, M=20)\n",
    "\n",
    "            # Apply displacements\n",
    "            dx = xs[-1]\n",
    "            data.pos += dx"
   ]
  },
  {
   "attachments": {},
   "cell_type": "markdown",
   "id": "f6db732d-afa9-4875-851a-16405a2e78cb",
   "metadata": {},
   "source": [
    "### Save the roll-out"
   ]
  },
  {
   "cell_type": "code",
   "execution_count": 9,
   "id": "9ae7c086-84a0-4a97-8c63-4d8a9f711893",
   "metadata": {},
   "outputs": [],
   "source": [
    "import ase, ase.io\n",
    "\n",
    "rollout_traj = [\n",
    "    ase.Atoms(numbers=numbers, positions=pos/SCALE, cell=np.diag([30., 30., 30]))\n",
    "    for pos in torch.stack(rollout_pos).cpu().numpy()\n",
    "]\n",
    "for atoms in rollout_traj: atoms.center()\n",
    "ase.io.write('./ala-dipep-rollout.extxyz', rollout_traj)"
   ]
  }
 ],
 "metadata": {
  "kernelspec": {
   "display_name": "Python 3 (ipykernel)",
   "language": "python",
   "name": "python3"
  },
  "language_info": {
   "codemirror_mode": {
    "name": "ipython",
    "version": 3
   },
   "file_extension": ".py",
   "mimetype": "text/x-python",
   "name": "python",
   "nbconvert_exporter": "python",
   "pygments_lexer": "ipython3",
   "version": "3.11.8"
  },
  "toc-autonumbering": false,
  "toc-showcode": false
 },
 "nbformat": 4,
 "nbformat_minor": 5
}
