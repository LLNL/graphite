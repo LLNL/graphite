{
 "cells": [
  {
   "attachments": {},
   "cell_type": "markdown",
   "metadata": {},
   "source": [
    "# Graph network model training for SODAS prediction\n",
    "\n",
    "This notebook will guide you through graph network model training and inference for predicting the SODAS (structural orderness degree for atomic structures) metric. Before we proceed, make sure to install all the neccessary packages (please see the README file of this repository for installation instructions).\n",
    "\n",
    "Being research code, `graphite` currently has no strict versioning. This notebook was last run on 2023-04-17. Please contact the authors if you encounter errors or bugs."
   ]
  },
  {
   "cell_type": "code",
   "execution_count": 3,
   "metadata": {
    "tags": []
   },
   "outputs": [],
   "source": [
    "import torch\n",
    "import numpy as np\n",
    "import matplotlib.pyplot as plt"
   ]
  },
  {
   "cell_type": "markdown",
   "metadata": {},
   "source": [
    "## Load training data\n",
    "\n",
    "The original training data is a set of 1625 FCC Al configurations simulated with MD from 50K to 1200K, converted and stored in PyG (Pytorch-Geometric) graph format such that it's ready for ML training without the hassle of having to do the graph conversion yourself. However, it's 800 MB in size. Here, for demonstration purpose, we will take a smaller subset of the training data, which is stored in the repository.\n",
    "\n",
    "Note that to read the training data, you might need to have the right versions of PyG and possibily PyTorch. I'm using pyg 2.0.4 and pytorch 1.11.0 in this notebook."
   ]
  },
  {
   "cell_type": "code",
   "execution_count": 2,
   "metadata": {},
   "outputs": [
    {
     "name": "stdout",
     "output_type": "stream",
     "text": [
      "Number of train graphs: 11\n",
      "Number of valid graphs: 2\n"
     ]
    }
   ],
   "source": [
    "from torch_geometric.loader import DataLoader\n",
    "from sklearn.model_selection import train_test_split\n",
    "\n",
    "PIN_MEMORY  = True  # related to optimization for training, revert to False if you see any issues\n",
    "NUM_WORKERS = 4     # related to optimization for training, revert to 1 if you see any issues\n",
    "BATCH_SIZE  = 16    # adjust this so that each minibatch fits in the (GPU) memory\n",
    "\n",
    "dataset = torch.load('./data/train/fcc-Al-50-to-1200K-r3.5-small.pt')\n",
    "\n",
    "ds_train, ds_valid = train_test_split(dataset, train_size=0.9, random_state=12345)\n",
    "\n",
    "loader_train = DataLoader(ds_train, batch_size=BATCH_SIZE, shuffle=True,  num_workers=NUM_WORKERS, pin_memory=PIN_MEMORY)\n",
    "loader_valid = DataLoader(ds_valid, batch_size=BATCH_SIZE, shuffle=False, num_workers=NUM_WORKERS, pin_memory=PIN_MEMORY)\n",
    "\n",
    "print(f'Number of train graphs: {len(loader_train.dataset)}')\n",
    "print(f'Number of valid graphs: {len(loader_valid.dataset)}')"
   ]
  },
  {
   "cell_type": "markdown",
   "metadata": {},
   "source": [
    "## Initialize model\n",
    "\n",
    "The model parameters and complexity (number of weights) are determined here."
   ]
  },
  {
   "cell_type": "code",
   "execution_count": 3,
   "metadata": {},
   "outputs": [],
   "source": [
    "from torch import nn\n",
    "from functools import partial\n",
    "from graphite.nn.basis import bessel\n",
    "\n",
    "class InitialEmbedding(nn.Module):\n",
    "    def __init__(self, num_species, cutoff, dim):\n",
    "        super().__init__()\n",
    "        self.embed_node = nn.Embedding(num_species, dim)\n",
    "        self.embed_edge = partial(bessel, start=0, end=cutoff, num_basis=dim)\n",
    "        \n",
    "    def forward(self, data):\n",
    "        data.h_node = self.embed_node(data.x)\n",
    "        data.h_edge = self.embed_edge(data.edge_attr)\n",
    "        return data"
   ]
  },
  {
   "cell_type": "code",
   "execution_count": 5,
   "metadata": {
    "scrolled": true
   },
   "outputs": [
    {
     "name": "stdout",
     "output_type": "stream",
     "text": [
      "GatedGCN_Net(\n",
      "  (init_embed): InitialEmbedding(\n",
      "    (embed_node): Embedding(1, 64)\n",
      "  )\n",
      "  (convs): ModuleList(\n",
      "    (0-2): 3 x GatedGCN()\n",
      "  )\n",
      "  (out): Sequential(\n",
      "    (0): Linear(in_features=64, out_features=64, bias=True)\n",
      "    (1): SiLU()\n",
      "    (2): Linear(in_features=64, out_features=1, bias=True)\n",
      "    (3): Sigmoid()\n",
      "  )\n",
      ")\n"
     ]
    }
   ],
   "source": [
    "from graphite.nn.models import GatedGCN_Net\n",
    "\n",
    "model = GatedGCN_Net(\n",
    "    init_embed   = InitialEmbedding(num_species=1, cutoff=3.5, dim=64),\n",
    "    output_layer = nn.Sequential(nn.Linear(64, 64), nn.SiLU(), nn.Linear(64, 1), nn.Sigmoid()),\n",
    "    num_convs    = 3,\n",
    "    dim          = 64,\n",
    "    out_dim      = 1,\n",
    ")\n",
    "\n",
    "print(model)"
   ]
  },
  {
   "cell_type": "markdown",
   "metadata": {},
   "source": [
    "## Train the model"
   ]
  },
  {
   "cell_type": "code",
   "execution_count": 6,
   "metadata": {},
   "outputs": [
    {
     "name": "stdout",
     "output_type": "stream",
     "text": [
      "1454 epochs needed to update the model 1000 times.\n"
     ]
    }
   ],
   "source": [
    "LEARN_RATE  = 2e-4\n",
    "NUM_UPDATES = 1_000    # number of model updates you wish to apply\n",
    "\n",
    "num_samples = len(ds_train)\n",
    "num_epochs  = int(NUM_UPDATES/(num_samples/BATCH_SIZE))\n",
    "print(f'{num_epochs} epochs needed to update the model {NUM_UPDATES} times.')"
   ]
  },
  {
   "cell_type": "code",
   "execution_count": 7,
   "metadata": {},
   "outputs": [],
   "source": [
    "def train(loader):\n",
    "    model.train()\n",
    "    total_loss = 0.0\n",
    "    for data in loader:\n",
    "        optimizer.zero_grad(set_to_none=True)\n",
    "        data = data.to(device, non_blocking=PIN_MEMORY)\n",
    "        pred = model(data)\n",
    "        loss = loss_fn(pred, data.y)\n",
    "        loss.backward()\n",
    "        optimizer.step()\n",
    "        total_loss += loss.item()\n",
    "    return total_loss / len(loader)\n",
    "\n",
    "@torch.no_grad()\n",
    "def test(loader):\n",
    "    model.eval()\n",
    "    total_loss = 0.0\n",
    "    for data in loader:\n",
    "        data = data.to(device, non_blocking=PIN_MEMORY)\n",
    "        pred = model(data)\n",
    "        loss = loss_fn(pred, data.y)\n",
    "        total_loss += loss.item()\n",
    "    return total_loss / len(loader)"
   ]
  },
  {
   "attachments": {},
   "cell_type": "markdown",
   "metadata": {},
   "source": [
    "The training time depends on the number of model updates you specify. It should take less than an hour to finish training in this demo."
   ]
  },
  {
   "cell_type": "code",
   "execution_count": null,
   "metadata": {
    "scrolled": true
   },
   "outputs": [],
   "source": [
    "from tqdm.notebook import trange\n",
    "\n",
    "optimizer = torch.optim.AdamW(model.parameters(), lr=LEARN_RATE)\n",
    "device    = torch.device('cuda' if torch.cuda.is_available() else 'cpu')\n",
    "model     = model.to(device)\n",
    "loss_fn   = torch.nn.BCELoss()\n",
    "\n",
    "L_train, L_valid = [], []\n",
    "with trange(num_epochs) as pbar:\n",
    "    for _ in pbar:\n",
    "        loss_train = train(loader_train); L_train.append(loss_train)\n",
    "        loss_valid = test(loader_valid); L_valid.append(loss_valid)\n",
    "        pbar.set_postfix(\n",
    "            loss_train=loss_train,\n",
    "            loss_valid=loss_valid,\n",
    "        )"
   ]
  },
  {
   "cell_type": "markdown",
   "metadata": {},
   "source": [
    "## Loss curves\n",
    "\n",
    "Be aware that the loss curves may not look good with the small dataset."
   ]
  },
  {
   "cell_type": "code",
   "execution_count": 9,
   "metadata": {},
   "outputs": [
    {
     "data": {
      "image/png": "[encoded data removed]",
      "text/plain": [
       "<Figure size 864x216 with 2 Axes>"
      ]
     },
     "metadata": {
      "needs_background": "light"
     },
     "output_type": "display_data"
    }
   ],
   "source": [
    "fig, (ax1, ax2) = plt.subplots(1, 2, figsize=(12, 3))\n",
    "\n",
    "ax1.plot(L_train, label='Train')\n",
    "ax1.plot(L_valid, label='Valid')\n",
    "ax1.set_ylabel('Loss')\n",
    "ax1.set_xlabel('Epochs')\n",
    "ax1.legend()\n",
    "\n",
    "ax2.semilogy(L_train, label='Train')\n",
    "ax2.semilogy(L_valid, label='Valid')\n",
    "ax2.set_xlabel('Epochs')\n",
    "ax2.legend()\n",
    "\n",
    "plt.show()"
   ]
  },
  {
   "cell_type": "markdown",
   "metadata": {},
   "source": [
    "## Save/load model\n",
    "\n",
    "At this point, you can opt to save the trained model.\n",
    "\n",
    "Or, if you have previously trained and saved a model, you can skip the training and load the trained model here.\n",
    "\n",
    "Here, I have stored a model instance that was trained with the full set of training data (~800 MB). You can just load it here. Again, to load it, you might need to have the right versions of PyG (2.0.4) and PyTorch (1.11.0)."
   ]
  },
  {
   "cell_type": "code",
   "execution_count": 9,
   "metadata": {},
   "outputs": [
    {
     "name": "stdout",
     "output_type": "stream",
     "text": [
      "EGCONV_GNN(dim=64, num_interactions=3, num_species=1, cutoff=3.5)\n"
     ]
    }
   ],
   "source": [
    "# Save\n",
    "# torch.save(model.to('cpu'), '/path/to/somewhere/filename.pt')\n",
    "\n",
    "# Load\n",
    "model = torch.load('./models/20230407-GatedGCN-r3.5.pt')\n",
    "print(model)"
   ]
  },
  {
   "cell_type": "markdown",
   "metadata": {},
   "source": [
    "## Model inference on test datasets\n",
    "\n",
    "We will apply the trained model to some atomic structures. But you will have to use external packages to read structure files and convert them to graphs. For these capabilities, I use `ase`.\n",
    "\n",
    "Here, we will apply the model to a configuration of Al solid-liquid interface and save the output.\n",
    "\n",
    "The inference time depends on whether GPU/accelerator is used, the compute speed of the machine, the scale of the atomic structure, etc. For the solid-liquid interface example, the inference should take only seconds."
   ]
  },
  {
   "cell_type": "code",
   "execution_count": 6,
   "metadata": {},
   "outputs": [],
   "source": [
    "from sklearn.preprocessing import LabelEncoder\n",
    "from torch_geometric.data import Data\n",
    "import ase.io\n",
    "from ase.neighborlist import neighbor_list\n",
    "from pathlib import Path\n",
    "\n",
    "fname = Path('./data/solid-liquid-interface.poscar')\n",
    "atoms = ase.io.read(fname)\n",
    "\n",
    "x = LabelEncoder().fit_transform(atoms.numbers)\n",
    "i, j, d = neighbor_list('ijd', atoms, cutoff=3.5)\n",
    "edge_index = np.stack([i,j])\n",
    "data = Data(\n",
    "    x          = torch.tensor(x,          dtype=torch.long),\n",
    "    edge_index = torch.tensor(edge_index, dtype=torch.long),\n",
    "    edge_attr  = torch.tensor(d,          dtype=torch.float),\n",
    ")\n",
    "\n",
    "model.eval()\n",
    "model = model.to('cpu')\n",
    "with torch.no_grad():\n",
    "    pred = model(data).numpy()\n",
    "\n",
    "atoms.info['cutoff'] = 3.5\n",
    "atoms.arrays['sodas'] = pred.flatten()\n",
    "\n",
    "ase.io.write(fname.with_suffix('.sodas-pred.extxyz'), atoms, format='extxyz')"
   ]
  }
 ],
 "metadata": {
  "kernelspec": {
   "display_name": "Python 3 (ipykernel)",
   "language": "python",
   "name": "python3"
  },
  "language_info": {
   "codemirror_mode": {
    "name": "ipython",
    "version": 3
   },
   "file_extension": ".py",
   "mimetype": "text/x-python",
   "name": "python",
   "nbconvert_exporter": "python",
   "pygments_lexer": "ipython3",
   "version": "3.10.11"
  }
 },
 "nbformat": 4,
 "nbformat_minor": 4
}
