{
 "cells": [
  {
   "cell_type": "markdown",
   "metadata": {},
   "source": [
    "# Graph network model training for SODAS prediction\n",
    "\n",
    "This notebook will guide you through graph network model training and inference for predicting the SODAS (structural orderness degree for atomic structures) metric. Before we proceed, make sure to install all the neccessary packages (please see the README file of this repository for installation instructions)."
   ]
  },
  {
   "cell_type": "code",
   "execution_count": 1,
   "metadata": {
    "tags": []
   },
   "outputs": [],
   "source": [
    "import torch\n",
    "import numpy as np\n",
    "import matplotlib.pyplot as plt"
   ]
  },
  {
   "cell_type": "markdown",
   "metadata": {},
   "source": [
    "## Initialize model\n",
    "\n",
    "The model parameters and complexity (number of weights) are determined here."
   ]
  },
  {
   "cell_type": "code",
   "execution_count": 2,
   "metadata": {
    "scrolled": true
   },
   "outputs": [
    {
     "name": "stdout",
     "output_type": "stream",
     "text": [
      "EGCONV_GNN(dim=64, num_interactions=3, num_species=1, cutoff=3.5)\n"
     ]
    },
    {
     "data": {
      "text/html": [
       "<div>\n",
       "<style scoped>\n",
       "    .dataframe tbody tr th:only-of-type {\n",
       "        vertical-align: middle;\n",
       "    }\n",
       "\n",
       "    .dataframe tbody tr th {\n",
       "        vertical-align: top;\n",
       "    }\n",
       "\n",
       "    .dataframe thead th {\n",
       "        text-align: right;\n",
       "    }\n",
       "</style>\n",
       "<table border=\"1\" class=\"dataframe\">\n",
       "  <thead>\n",
       "    <tr style=\"text-align: right;\">\n",
       "      <th></th>\n",
       "      <th>Layer</th>\n",
       "      <th>Params</th>\n",
       "    </tr>\n",
       "  </thead>\n",
       "  <tbody>\n",
       "    <tr>\n",
       "      <th>0</th>\n",
       "      <td>embed_atm.weight</td>\n",
       "      <td>64</td>\n",
       "    </tr>\n",
       "    <tr>\n",
       "      <th>1</th>\n",
       "      <td>atm_bnd_interactions.0.W_src.weight</td>\n",
       "      <td>4096</td>\n",
       "    </tr>\n",
       "    <tr>\n",
       "      <th>2</th>\n",
       "      <td>atm_bnd_interactions.0.W_src.bias</td>\n",
       "      <td>64</td>\n",
       "    </tr>\n",
       "    <tr>\n",
       "      <th>3</th>\n",
       "      <td>atm_bnd_interactions.0.W_dst.weight</td>\n",
       "      <td>4096</td>\n",
       "    </tr>\n",
       "    <tr>\n",
       "      <th>4</th>\n",
       "      <td>atm_bnd_interactions.0.W_dst.bias</td>\n",
       "      <td>64</td>\n",
       "    </tr>\n",
       "    <tr>\n",
       "      <th>5</th>\n",
       "      <td>atm_bnd_interactions.0.W_e.weight</td>\n",
       "      <td>12288</td>\n",
       "    </tr>\n",
       "    <tr>\n",
       "      <th>6</th>\n",
       "      <td>atm_bnd_interactions.0.W_e.bias</td>\n",
       "      <td>64</td>\n",
       "    </tr>\n",
       "    <tr>\n",
       "      <th>7</th>\n",
       "      <td>atm_bnd_interactions.0.norm_x.weight</td>\n",
       "      <td>64</td>\n",
       "    </tr>\n",
       "    <tr>\n",
       "      <th>8</th>\n",
       "      <td>atm_bnd_interactions.0.norm_x.bias</td>\n",
       "      <td>64</td>\n",
       "    </tr>\n",
       "    <tr>\n",
       "      <th>9</th>\n",
       "      <td>atm_bnd_interactions.0.norm_e.weight</td>\n",
       "      <td>64</td>\n",
       "    </tr>\n",
       "    <tr>\n",
       "      <th>10</th>\n",
       "      <td>atm_bnd_interactions.0.norm_e.bias</td>\n",
       "      <td>64</td>\n",
       "    </tr>\n",
       "    <tr>\n",
       "      <th>11</th>\n",
       "      <td>atm_bnd_interactions.1.W_src.weight</td>\n",
       "      <td>4096</td>\n",
       "    </tr>\n",
       "    <tr>\n",
       "      <th>12</th>\n",
       "      <td>atm_bnd_interactions.1.W_src.bias</td>\n",
       "      <td>64</td>\n",
       "    </tr>\n",
       "    <tr>\n",
       "      <th>13</th>\n",
       "      <td>atm_bnd_interactions.1.W_dst.weight</td>\n",
       "      <td>4096</td>\n",
       "    </tr>\n",
       "    <tr>\n",
       "      <th>14</th>\n",
       "      <td>atm_bnd_interactions.1.W_dst.bias</td>\n",
       "      <td>64</td>\n",
       "    </tr>\n",
       "    <tr>\n",
       "      <th>15</th>\n",
       "      <td>atm_bnd_interactions.1.W_e.weight</td>\n",
       "      <td>12288</td>\n",
       "    </tr>\n",
       "    <tr>\n",
       "      <th>16</th>\n",
       "      <td>atm_bnd_interactions.1.W_e.bias</td>\n",
       "      <td>64</td>\n",
       "    </tr>\n",
       "    <tr>\n",
       "      <th>17</th>\n",
       "      <td>atm_bnd_interactions.1.norm_x.weight</td>\n",
       "      <td>64</td>\n",
       "    </tr>\n",
       "    <tr>\n",
       "      <th>18</th>\n",
       "      <td>atm_bnd_interactions.1.norm_x.bias</td>\n",
       "      <td>64</td>\n",
       "    </tr>\n",
       "    <tr>\n",
       "      <th>19</th>\n",
       "      <td>atm_bnd_interactions.1.norm_e.weight</td>\n",
       "      <td>64</td>\n",
       "    </tr>\n",
       "    <tr>\n",
       "      <th>20</th>\n",
       "      <td>atm_bnd_interactions.1.norm_e.bias</td>\n",
       "      <td>64</td>\n",
       "    </tr>\n",
       "    <tr>\n",
       "      <th>21</th>\n",
       "      <td>atm_bnd_interactions.2.W_src.weight</td>\n",
       "      <td>4096</td>\n",
       "    </tr>\n",
       "    <tr>\n",
       "      <th>22</th>\n",
       "      <td>atm_bnd_interactions.2.W_src.bias</td>\n",
       "      <td>64</td>\n",
       "    </tr>\n",
       "    <tr>\n",
       "      <th>23</th>\n",
       "      <td>atm_bnd_interactions.2.W_dst.weight</td>\n",
       "      <td>4096</td>\n",
       "    </tr>\n",
       "    <tr>\n",
       "      <th>24</th>\n",
       "      <td>atm_bnd_interactions.2.W_dst.bias</td>\n",
       "      <td>64</td>\n",
       "    </tr>\n",
       "    <tr>\n",
       "      <th>25</th>\n",
       "      <td>atm_bnd_interactions.2.W_e.weight</td>\n",
       "      <td>12288</td>\n",
       "    </tr>\n",
       "    <tr>\n",
       "      <th>26</th>\n",
       "      <td>atm_bnd_interactions.2.W_e.bias</td>\n",
       "      <td>64</td>\n",
       "    </tr>\n",
       "    <tr>\n",
       "      <th>27</th>\n",
       "      <td>atm_bnd_interactions.2.norm_x.weight</td>\n",
       "      <td>64</td>\n",
       "    </tr>\n",
       "    <tr>\n",
       "      <th>28</th>\n",
       "      <td>atm_bnd_interactions.2.norm_x.bias</td>\n",
       "      <td>64</td>\n",
       "    </tr>\n",
       "    <tr>\n",
       "      <th>29</th>\n",
       "      <td>atm_bnd_interactions.2.norm_e.weight</td>\n",
       "      <td>64</td>\n",
       "    </tr>\n",
       "    <tr>\n",
       "      <th>30</th>\n",
       "      <td>atm_bnd_interactions.2.norm_e.bias</td>\n",
       "      <td>64</td>\n",
       "    </tr>\n",
       "    <tr>\n",
       "      <th>31</th>\n",
       "      <td>out.0.weight</td>\n",
       "      <td>4096</td>\n",
       "    </tr>\n",
       "    <tr>\n",
       "      <th>32</th>\n",
       "      <td>out.0.bias</td>\n",
       "      <td>64</td>\n",
       "    </tr>\n",
       "    <tr>\n",
       "      <th>33</th>\n",
       "      <td>out.2.weight</td>\n",
       "      <td>64</td>\n",
       "    </tr>\n",
       "    <tr>\n",
       "      <th>34</th>\n",
       "      <td>out.2.bias</td>\n",
       "      <td>1</td>\n",
       "    </tr>\n",
       "    <tr>\n",
       "      <th>35</th>\n",
       "      <td>Total</td>\n",
       "      <td>67073</td>\n",
       "    </tr>\n",
       "  </tbody>\n",
       "</table>\n",
       "</div>"
      ],
      "text/plain": [
       "                                   Layer  Params\n",
       "0                       embed_atm.weight      64\n",
       "1    atm_bnd_interactions.0.W_src.weight    4096\n",
       "2      atm_bnd_interactions.0.W_src.bias      64\n",
       "3    atm_bnd_interactions.0.W_dst.weight    4096\n",
       "4      atm_bnd_interactions.0.W_dst.bias      64\n",
       "5      atm_bnd_interactions.0.W_e.weight   12288\n",
       "6        atm_bnd_interactions.0.W_e.bias      64\n",
       "7   atm_bnd_interactions.0.norm_x.weight      64\n",
       "8     atm_bnd_interactions.0.norm_x.bias      64\n",
       "9   atm_bnd_interactions.0.norm_e.weight      64\n",
       "10    atm_bnd_interactions.0.norm_e.bias      64\n",
       "11   atm_bnd_interactions.1.W_src.weight    4096\n",
       "12     atm_bnd_interactions.1.W_src.bias      64\n",
       "13   atm_bnd_interactions.1.W_dst.weight    4096\n",
       "14     atm_bnd_interactions.1.W_dst.bias      64\n",
       "15     atm_bnd_interactions.1.W_e.weight   12288\n",
       "16       atm_bnd_interactions.1.W_e.bias      64\n",
       "17  atm_bnd_interactions.1.norm_x.weight      64\n",
       "18    atm_bnd_interactions.1.norm_x.bias      64\n",
       "19  atm_bnd_interactions.1.norm_e.weight      64\n",
       "20    atm_bnd_interactions.1.norm_e.bias      64\n",
       "21   atm_bnd_interactions.2.W_src.weight    4096\n",
       "22     atm_bnd_interactions.2.W_src.bias      64\n",
       "23   atm_bnd_interactions.2.W_dst.weight    4096\n",
       "24     atm_bnd_interactions.2.W_dst.bias      64\n",
       "25     atm_bnd_interactions.2.W_e.weight   12288\n",
       "26       atm_bnd_interactions.2.W_e.bias      64\n",
       "27  atm_bnd_interactions.2.norm_x.weight      64\n",
       "28    atm_bnd_interactions.2.norm_x.bias      64\n",
       "29  atm_bnd_interactions.2.norm_e.weight      64\n",
       "30    atm_bnd_interactions.2.norm_e.bias      64\n",
       "31                          out.0.weight    4096\n",
       "32                            out.0.bias      64\n",
       "33                          out.2.weight      64\n",
       "34                            out.2.bias       1\n",
       "35                                 Total   67073"
      ]
     },
     "execution_count": 2,
     "metadata": {},
     "output_type": "execute_result"
    }
   ],
   "source": [
    "from graphite.nn.models import EGCONV_GNN\n",
    "from graphite.utils import summary\n",
    "\n",
    "model = EGCONV_GNN(\n",
    "    dim = 64,\n",
    "    num_interactions = 3,\n",
    "    num_species = 1,\n",
    "    cutoff = 3.5,\n",
    ")\n",
    "\n",
    "print(model)\n",
    "summary(model)"
   ]
  },
  {
   "cell_type": "markdown",
   "metadata": {},
   "source": [
    "## Load training data\n",
    "\n",
    "The original training data is a set of 1625 FCC Al configurations simulated with MD from 50K to 1200K, converted and stored in PyG (Pytorch-Geometric) graph format such that it's ready for ML training without the hassle of having to do the graph conversion yourself. However, it's 800 MB in size. Here, for demonstration purpose, we will take a smaller subset of the training data, which is stored in the repository.\n",
    "\n",
    "Note that to read the training data, you might need to have the right versions of PyG and possibily PyTorch. I'm using pyg 2.0.4 and pytorch 1.11.0 in this notebook."
   ]
  },
  {
   "cell_type": "code",
   "execution_count": 3,
   "metadata": {},
   "outputs": [
    {
     "name": "stdout",
     "output_type": "stream",
     "text": [
      "Number of train graphs: 11\n",
      "Number of valid graphs: 2\n"
     ]
    }
   ],
   "source": [
    "from torch_geometric.loader import DataLoader\n",
    "from sklearn.model_selection import train_test_split\n",
    "\n",
    "PIN_MEMORY  = True  # related to optimization for training, revert to False if you see any issues\n",
    "NUM_WORKERS = 4     # related to optimization for training, revert to 1 if you see any issues\n",
    "BATCH_SIZE  = 16    # adjust this so that each minibatch fits in the (GPU) memory\n",
    "\n",
    "dataset = torch.load('./data/train/fcc-Al-50-to-1200K-r3.5-small.pt')\n",
    "\n",
    "ds_train, ds_valid = train_test_split(dataset, train_size=0.9, random_state=12345)\n",
    "\n",
    "loader_train = DataLoader(ds_train, batch_size=BATCH_SIZE, shuffle=True,  num_workers=NUM_WORKERS, pin_memory=PIN_MEMORY)\n",
    "loader_valid = DataLoader(ds_valid, batch_size=BATCH_SIZE, shuffle=False, num_workers=NUM_WORKERS, pin_memory=PIN_MEMORY)\n",
    "\n",
    "print(f'Number of train graphs: {len(loader_train.dataset)}')\n",
    "print(f'Number of valid graphs: {len(loader_valid.dataset)}')"
   ]
  },
  {
   "cell_type": "markdown",
   "metadata": {},
   "source": [
    "## Train the model"
   ]
  },
  {
   "cell_type": "code",
   "execution_count": 4,
   "metadata": {},
   "outputs": [
    {
     "name": "stdout",
     "output_type": "stream",
     "text": [
      "1454 epochs needed to update the model 1000 times.\n"
     ]
    }
   ],
   "source": [
    "LEARN_RATE  = 1e-4\n",
    "NUM_UPDATES = 1_000    # number of model updates you wish to apply\n",
    "\n",
    "num_samples = len(ds_train)\n",
    "num_epochs  = int(NUM_UPDATES/(num_samples/BATCH_SIZE))\n",
    "print(f'{num_epochs} epochs needed to update the model {NUM_UPDATES} times.')"
   ]
  },
  {
   "cell_type": "code",
   "execution_count": 5,
   "metadata": {},
   "outputs": [],
   "source": [
    "def train(loader):\n",
    "    model.train()\n",
    "    total_loss = 0.0\n",
    "    for data in loader:\n",
    "        optimizer.zero_grad(set_to_none=True)\n",
    "        data = data.to(device, non_blocking=PIN_MEMORY)\n",
    "        pred = model(data)\n",
    "        loss = loss_fn(pred, data.y)\n",
    "        loss.backward()\n",
    "        optimizer.step()\n",
    "        total_loss += loss.item()\n",
    "    return total_loss / len(loader)\n",
    "\n",
    "@torch.no_grad()\n",
    "def test(loader):\n",
    "    model.eval()\n",
    "    total_loss = 0.0\n",
    "    for data in loader:\n",
    "        data = data.to(device, non_blocking=PIN_MEMORY)\n",
    "        pred = model(data)\n",
    "        loss = loss_fn(pred, data.y)\n",
    "        total_loss += loss.item()\n",
    "    return total_loss / len(loader)"
   ]
  },
  {
   "cell_type": "markdown",
   "metadata": {},
   "source": [
    "The training time depends on the number of model updates you specify."
   ]
  },
  {
   "cell_type": "code",
   "execution_count": 6,
   "metadata": {
    "scrolled": true
   },
   "outputs": [
    {
     "data": {
      "application/vnd.jupyter.widget-view+json": {
       "model_id": "586627d2c1b648de925b1be088ad3e26",
       "version_major": 2,
       "version_minor": 0
      },
      "text/plain": [
       "  0%|          | 0/1454 [00:00<?, ?it/s]"
      ]
     },
     "metadata": {},
     "output_type": "display_data"
    }
   ],
   "source": [
    "from tqdm.notebook import trange\n",
    "\n",
    "optimizer = torch.optim.AdamW(model.parameters(), lr=LEARN_RATE)\n",
    "device    = torch.device('cuda' if torch.cuda.is_available() else 'cpu')\n",
    "model     = model.to(device)\n",
    "loss_fn   = torch.nn.BCELoss()\n",
    "\n",
    "L_train, L_valid = [], []\n",
    "with trange(num_epochs) as pbar:\n",
    "    for _ in pbar:\n",
    "        loss_train = train(loader_train); L_train.append(loss_train)\n",
    "        loss_valid = test(loader_valid); L_valid.append(loss_valid)\n",
    "        pbar.set_postfix(\n",
    "            loss_train=loss_train,\n",
    "            loss_valid=loss_valid,\n",
    "        )"
   ]
  },
  {
   "cell_type": "markdown",
   "metadata": {},
   "source": [
    "## Loss curves\n",
    "\n",
    "Be aware that the loss curves may not look good with the small dataset."
   ]
  },
  {
   "cell_type": "code",
   "execution_count": 8,
   "metadata": {},
   "outputs": [
    {
     "data": {
      "image/png": "[encoded data removed]",
      "text/plain": [
       "<Figure size 864x288 with 2 Axes>"
      ]
     },
     "metadata": {
      "needs_background": "light"
     },
     "output_type": "display_data"
    }
   ],
   "source": [
    "fig, (ax1, ax2) = plt.subplots(1, 2, figsize=(12, 4))\n",
    "\n",
    "ax1.plot(L_train, label='Train')\n",
    "ax1.plot(L_valid, label='Valid')\n",
    "ax1.set_ylabel('Loss')\n",
    "ax1.set_xlabel('Epochs')\n",
    "ax1.legend()\n",
    "\n",
    "ax2.semilogy(L_train, label='Train')\n",
    "ax2.semilogy(L_valid, label='Valid')\n",
    "ax2.set_xlabel('Epochs')\n",
    "ax2.legend()\n",
    "\n",
    "plt.show()"
   ]
  },
  {
   "cell_type": "markdown",
   "metadata": {},
   "source": [
    "## Save/load model\n",
    "\n",
    "At this point, you can opt to save the trained model.\n",
    "\n",
    "Or, if you have previously trained and saved a model, you can skip the training and load the trained model here.\n",
    "\n",
    "Here, I have stored a model instance that was trained with the full set of training data (~800 MB). You can just load it here. Again, to load it, you might need to have the right versions of PyG (2.0.4) and PyTorch (1.11.0)."
   ]
  },
  {
   "cell_type": "code",
   "execution_count": 9,
   "metadata": {},
   "outputs": [
    {
     "name": "stdout",
     "output_type": "stream",
     "text": [
      "EGCONV_GNN(dim=64, num_interactions=3, num_species=1, cutoff=3.5)\n"
     ]
    }
   ],
   "source": [
    "# Save\n",
    "# torch.save(model.to('cpu'), '/path/to/somewhere/filename.pt')\n",
    "\n",
    "# Load\n",
    "model = torch.load('./models/20221006-EGConv-r3.5.pt')\n",
    "print(model)"
   ]
  },
  {
   "cell_type": "markdown",
   "metadata": {},
   "source": [
    "## Model inference on test datasets\n",
    "\n",
    "We will apply the trained model to some atomic structures. But you will have to use external packages to read structure files and convert them to graphs. For these capabilities, I use `ase`.\n",
    "\n",
    "Here, we will apply the model to a configuration of Al solid-liquid interface and save the output.\n",
    "\n",
    "The inference time depends on whether GPU/accelerator is used, the compute speed of the machine, the scale of the atomic structure, etc. For the solid-liquid interface example, the inference should take only seconds."
   ]
  },
  {
   "cell_type": "code",
   "execution_count": 16,
   "metadata": {},
   "outputs": [],
   "source": [
    "from graphite.graph import atoms2graph\n",
    "from torch_geometric.data import Data\n",
    "import ase.io\n",
    "from pathlib import Path"
   ]
  },
  {
   "cell_type": "code",
   "execution_count": 17,
   "metadata": {},
   "outputs": [],
   "source": [
    "fname = Path('./data/solid-liquid-interface.poscar')\n",
    "atoms = ase.io.read(fname)\n",
    "\n",
    "edge_index, x, edge_attr = atoms2graph(atoms, cutoff=3.5, edge_dist=True)\n",
    "data = Data(\n",
    "    x          = torch.tensor(x,          dtype=torch.long),\n",
    "    edge_index = torch.tensor(edge_index, dtype=torch.long),\n",
    "    edge_attr  = torch.tensor(edge_attr,  dtype=torch.float),\n",
    ")\n",
    "\n",
    "model.eval()\n",
    "model = model.to('cpu')\n",
    "with torch.no_grad():\n",
    "    pred = model(data).numpy()\n",
    "\n",
    "atoms.info['cutoff'] = 3.5\n",
    "atoms.arrays['sodas'] = pred.flatten()\n",
    "\n",
    "ase.io.write(fname.with_suffix('.sodas-pred.extxyz'), atoms, format='extxyz')"
   ]
  },
  {
   "cell_type": "markdown",
   "metadata": {},
   "source": [
    "The output, visualized with OVITO, is shown here:\n",
    "\n",
    "![3D](./media/sl-interface-sodas-pred-3d.png)\n",
    "\n",
    "Here's the 2D view:\n",
    "\n",
    "![2D](./media/sl-interface-sodas-pred-2d.png)\n",
    "\n",
    "The yellow region is crystalline and the dark purple region is liquid. It's nice to see a smooth transition between the two phases. It's the intended characteristic of SODAS.\n",
    "\n",
    "This wraps up the demo for SODAS prediction. Please do contact the authors of this work if you have any questions or wish to see more features/applications to be implemented and uploaded to the repository. Thank you!"
   ]
  }
 ],
 "metadata": {
  "kernelspec": {
   "display_name": "Python 3 (ipykernel)",
   "language": "python",
   "name": "python3"
  },
  "language_info": {
   "codemirror_mode": {
    "name": "ipython",
    "version": 3
   },
   "file_extension": ".py",
   "mimetype": "text/x-python",
   "name": "python",
   "nbconvert_exporter": "python",
   "pygments_lexer": "ipython3",
   "version": "3.9.12"
  }
 },
 "nbformat": 4,
 "nbformat_minor": 4
}
